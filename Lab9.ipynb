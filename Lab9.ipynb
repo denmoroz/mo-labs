{
 "cells": [
  {
   "cell_type": "markdown",
   "metadata": {},
   "source": [
    "# Задание\n",
    "\n",
    "Набор данных ex9_movies.mat представляет собой файл формата *.mat (т.е. сохраненного из Matlab). Набор содержит две матрицы Y и R - рейтинг 1682 фильмов среди 943 пользователей. Значение Rij может быть равно 0 или 1 в зависимости от того оценил ли пользователь j фильм i. Матрица Y содержит числа от 1 до 5 - оценки в баллах пользователей, выставленные фильмам.\n",
    "\n",
    "\n",
    "1. Загрузите данные ex9_movies.mat из файла.\n",
    "2. Выберите число признаков фильмов (n) для реализации алгоритма коллаборативной фильтрации.\n",
    "3. Реализуйте функцию стоимости для алгоритма.\n",
    "4. Реализуйте функцию вычисления градиентов. При реализации используйте векторизацию для ускорения процесса обучения.\n",
    "6. Добавьте L2-регуляризацию в модель.\n",
    "7. Обучите модель с помощью градиентного спуска или других методов оптимизации.\n",
    "8. Добавьте несколько оценок фильмов от себя. Файл movie_ids.txt содержит индексы каждого из фильмов.\n",
    "9. Сделайте рекомендации для себя. Совпали ли они с реальностью?\n",
    "10. Также обучите модель с помощью сингулярного разложения матриц. Отличаются ли полученные результаты?"
   ]
  },
  {
   "cell_type": "code",
   "execution_count": 10,
   "metadata": {},
   "outputs": [],
   "source": [
    "import math\n",
    "import numpy as np\n",
    "\n",
    "from scipy.io import loadmat\n",
    "from scipy.optimize import minimize, check_grad\n",
    "\n",
    "%matplotlib inline"
   ]
  },
  {
   "cell_type": "markdown",
   "metadata": {},
   "source": [
    "1. Загрузите данные ex9_movies.mat из файла."
   ]
  },
  {
   "cell_type": "code",
   "execution_count": 3,
   "metadata": {},
   "outputs": [
    {
     "data": {
      "text/plain": [
       "((1682, 943), (1682, 943))"
      ]
     },
     "execution_count": 3,
     "metadata": {},
     "output_type": "execute_result"
    }
   ],
   "source": [
    "data = loadmat('Data/Lab 9/ex9_movies.mat')\n",
    "Y, R = data['Y'], data['R']\n",
    "\n",
    "Y.shape, R.shape"
   ]
  },
  {
   "cell_type": "code",
   "execution_count": 4,
   "metadata": {},
   "outputs": [],
   "source": [
    "nm, nu = Y.shape"
   ]
  },
  {
   "cell_type": "markdown",
   "metadata": {},
   "source": [
    "2. Выберите число признаков фильмов (n) для реализации алгоритма коллаборативной фильтрации."
   ]
  },
  {
   "cell_type": "code",
   "execution_count": 5,
   "metadata": {},
   "outputs": [],
   "source": [
    "n = 16"
   ]
  },
  {
   "cell_type": "markdown",
   "metadata": {},
   "source": [
    "3. Реализуйте функцию стоимости для алгоритма.\n",
    "\n",
    "Функция стоимости: \n",
    "$$ J = \\frac{1}{2}(||R * Q - Y||_{2} + \\lambda*||Q||_2) = \\frac{1}{2}(||R * U^TM - Y||_{2} + \\lambda(||U||_2 + ||M||_2))$$\n",
    "\n",
    "$Q$ - совмещенная матрица пользователей и объектов (фильмов)  \n",
    "$U$ - матрица скрытых представлений пользователей  \n",
    "$M$ - матрица скрытых представлений фильмов  \n",
    "$Y$ - матрица оценок пользователя  "
   ]
  },
  {
   "cell_type": "code",
   "execution_count": 6,
   "metadata": {},
   "outputs": [],
   "source": [
    "def loss(q, Y, R, nu, nm, k, lam):\n",
    "    Q = q.reshape((nu+nm, k))\n",
    "    M, U = Q[:nm], Q[-nu:]\n",
    "    error = R * M.dot(U.T) - Y\n",
    "    \n",
    "    return 0.5 * (np.sum(error**2) + lam * np.sum(Q**2))    "
   ]
  },
  {
   "cell_type": "markdown",
   "metadata": {},
   "source": [
    "4. Реализуйте функцию вычисления градиентов. При реализации используйте векторизацию для ускорения процесса обучения."
   ]
  },
  {
   "cell_type": "code",
   "execution_count": 7,
   "metadata": {},
   "outputs": [],
   "source": [
    "def grad(q, Y, R, nu, nm, k, lam):\n",
    "    Q = q.reshape((nu+nm, k))\n",
    "    M, U = Q[:nm], Q[-nu:]\n",
    "    \n",
    "    # Chain rule here\n",
    "    E = M.dot(U.T) - Y\n",
    "    E_ = R * E\n",
    "    \n",
    "    dQ = np.zeros((nu+nm, k))\n",
    "    dQ[:nm] = E_.dot(U) + lam*M\n",
    "    dQ[-nu:] = E_.T.dot(M) + lam*U\n",
    "    return dQ.flatten()"
   ]
  },
  {
   "cell_type": "markdown",
   "metadata": {},
   "source": [
    "7. Обучите модель с помощью градиентного спуска или других методов оптимизации."
   ]
  },
  {
   "cell_type": "code",
   "execution_count": 12,
   "metadata": {},
   "outputs": [],
   "source": [
    "# Начальное приближение\n",
    "q0 = np.random.rand(nu+nm, n).flatten()"
   ]
  },
  {
   "cell_type": "code",
   "execution_count": 13,
   "metadata": {},
   "outputs": [
    {
     "data": {
      "text/plain": [
       "      fun: 17322.38738488291\n",
       " hess_inv: <42000x42000 LbfgsInvHessProduct with dtype=float64>\n",
       "      jac: array([-0.00118572,  0.00121669, -0.00030646, ..., -0.0002981 ,\n",
       "       -0.00096843,  0.00139672])\n",
       "  message: b'CONVERGENCE: REL_REDUCTION_OF_F_<=_FACTR*EPSMCH'\n",
       "     nfev: 7109\n",
       "      nit: 6888\n",
       "   status: 0\n",
       "  success: True\n",
       "        x: array([0.46351324, 0.30475258, 0.31983096, ..., 1.1791122 , 0.86168118,\n",
       "       0.52031682])"
      ]
     },
     "execution_count": 13,
     "metadata": {},
     "output_type": "execute_result"
    }
   ],
   "source": [
    "result = minimize(loss, q0, (Y, R, nu, nm, n, 0.1), jac=grad, method=\"L-BFGS-B\")\n",
    "result"
   ]
  },
  {
   "cell_type": "code",
   "execution_count": 40,
   "metadata": {},
   "outputs": [
    {
     "data": {
      "text/plain": [
       "(3, 3.0077188342420307)"
      ]
     },
     "execution_count": 40,
     "metadata": {},
     "output_type": "execute_result"
    }
   ],
   "source": [
    "Q = result.x.reshape((nu+nm, n))\n",
    "M, U = Q[:nm], Q[-nu:]\n",
    "\n",
    "Y[1, 0], np.sum(M[1] * U[0])"
   ]
  },
  {
   "cell_type": "markdown",
   "metadata": {},
   "source": [
    "8. Добавьте несколько оценок фильмов от себя. Файл movie_ids.txt содержит индексы каждого из фильмов."
   ]
  },
  {
   "cell_type": "code",
   "execution_count": 42,
   "metadata": {},
   "outputs": [
    {
     "data": {
      "text/plain": [
       "1673"
      ]
     },
     "execution_count": 42,
     "metadata": {},
     "output_type": "execute_result"
    }
   ],
   "source": [
    "forward_dict, backward_dict = {}, {}\n",
    "\n",
    "with open(\"Data/Lab 9/movie_ids.txt\", \"rb\") as movies_file:\n",
    "    for line in movies_file:\n",
    "        try:\n",
    "            line = line.decode(\"utf-8\")\n",
    "            movie_id, movie_name = line.split(maxsplit=1)\n",
    "            movie_id = int(movie_id)\n",
    "            \n",
    "            forward_dict[movie_id] = movie_name.strip()\n",
    "            backward_dict[movie_name] = movie_id\n",
    "        except:\n",
    "            pass"
   ]
  },
  {
   "cell_type": "code",
   "execution_count": 45,
   "metadata": {},
   "outputs": [],
   "source": [
    "# 23 = Taxi Driver (1976), 127 = Godfather, The (1972)\n",
    "my_vector = np.zeros(Y.shape[0])\n",
    "my_vector[23 - 1] = 5\n",
    "my_vector[127 - 1] = 5\n",
    "\n",
    "my_view_vector = np.zeros(Y.shape[0])\n",
    "my_view_vector[23 - 1] = 1\n",
    "my_view_vector[127 - 1] = 1"
   ]
  },
  {
   "cell_type": "code",
   "execution_count": 59,
   "metadata": {},
   "outputs": [
    {
     "data": {
      "text/plain": [
       "((array([ 22, 126]),), (array([ 22, 126]),))"
      ]
     },
     "execution_count": 59,
     "metadata": {},
     "output_type": "execute_result"
    }
   ],
   "source": [
    "Y_new = np.concatenate((Y, np.expand_dims(my_vector, axis=1)), axis=1)\n",
    "R_new = np.concatenate((R, np.expand_dims(my_view_vector, axis=1)), axis=1)\n",
    "\n",
    "np.nonzero(Y_new[:, 943]), np.nonzero(R_new[:, 943])"
   ]
  },
  {
   "cell_type": "markdown",
   "metadata": {},
   "source": [
    "9. Сделайте рекомендации для себя. Совпали ли они с реальностью?"
   ]
  },
  {
   "cell_type": "code",
   "execution_count": 60,
   "metadata": {},
   "outputs": [],
   "source": [
    "nm, nu = Y_new.shape"
   ]
  },
  {
   "cell_type": "code",
   "execution_count": 62,
   "metadata": {},
   "outputs": [
    {
     "data": {
      "text/plain": [
       "      fun: 17350.716102039198\n",
       " hess_inv: <42016x42016 LbfgsInvHessProduct with dtype=float64>\n",
       "      jac: array([ 0.09144061,  0.10567593,  0.11027979, ..., -0.00016531,\n",
       "       -0.00048208, -0.00022807])\n",
       "  message: b'CONVERGENCE: REL_REDUCTION_OF_F_<=_FACTR*EPSMCH'\n",
       "     nfev: 11633\n",
       "      nit: 11290\n",
       "   status: 0\n",
       "  success: True\n",
       "        x: array([0.29671598, 0.65770161, 0.41276589, ..., 0.88429911, 0.36940694,\n",
       "       0.47325331])"
      ]
     },
     "execution_count": 62,
     "metadata": {},
     "output_type": "execute_result"
    }
   ],
   "source": [
    "q0 = np.random.rand(nu+nm, n).flatten()\n",
    "\n",
    "result = minimize(loss, q0, (Y_new, R_new, nu, nm, n, 0.1), jac=grad, method=\"L-BFGS-B\")\n",
    "result"
   ]
  },
  {
   "cell_type": "code",
   "execution_count": 64,
   "metadata": {},
   "outputs": [],
   "source": [
    "Q = result.x.reshape((nu+nm, n))\n",
    "M, U = Q[:nm], Q[-nu:]"
   ]
  },
  {
   "cell_type": "code",
   "execution_count": 68,
   "metadata": {},
   "outputs": [],
   "source": [
    "my_hidden_vector = U[-1, :]"
   ]
  },
  {
   "cell_type": "code",
   "execution_count": 82,
   "metadata": {},
   "outputs": [
    {
     "name": "stdout",
     "output_type": "stream",
     "text": [
      "Taxi Driver (1976)\n",
      "Silence of the Lambs, The (1991)\n",
      "Godfather, The (1972)\n",
      "2001: A Space Odyssey (1968)\n",
      "Apocalypse Now (1979)\n",
      "GoodFellas (1990)\n",
      "Psycho (1960)\n",
      "Godfather: Part II, The (1974)\n",
      "Raging Bull (1980)\n",
      "Paradise Lost: The Child Murders at Robin Hood Hills (1996)\n",
      "One Flew Over the Cuckoo's Nest (1975)\n",
      "Short Cuts (1993)\n",
      "For Whom the Bell Tolls (1943)\n",
      "Tin Drum, The (Blechtrommel, Die) (1979)\n",
      "High Noon (1952)\n",
      "Primary Colors (1998)\n",
      "Living in Oblivion (1995)\n",
      "Safe (1995)\n",
      "When We Were Kings (1996)\n",
      "Welcome To Sarajevo (1997)\n",
      "Top Hat (1935)\n",
      "Mina Tannenbaum (1994)\n",
      "Pather Panchali (1955)\n",
      "Boys, Les (1997)\n",
      "World of Apu, The (Apur Sansar) (1959)\n",
      "Angel Baby (1995)\n"
     ]
    }
   ],
   "source": [
    "recomendations = M.dot(my_hidden_vector)\n",
    "\n",
    "for idx in np.where(recomendations >= 4.5)[0]:\n",
    "    print(forward_dict[idx + 1])"
   ]
  }
 ],
 "metadata": {
  "kernelspec": {
   "display_name": "Python 3",
   "language": "python",
   "name": "python3"
  },
  "language_info": {
   "codemirror_mode": {
    "name": "ipython",
    "version": 3
   },
   "file_extension": ".py",
   "mimetype": "text/x-python",
   "name": "python",
   "nbconvert_exporter": "python",
   "pygments_lexer": "ipython3",
   "version": "3.6.3"
  }
 },
 "nbformat": 4,
 "nbformat_minor": 2
}

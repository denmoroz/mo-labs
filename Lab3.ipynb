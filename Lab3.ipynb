{
 "cells": [
  {
   "cell_type": "markdown",
   "metadata": {},
   "source": [
    "# Задание\n",
    "\n",
    "Набор данных ex3data1.mat представляет собой файл формата *.mat (т.е. сохраненного из Matlab). Набор содержит две переменные X (изменения уровня воды) и y (объем воды, вытекающий из дамбы). По переменной X необходимо предсказать y. Данные разделены на три выборки: обучающая выборка (X, y), по которой определяются параметры модели; валидационная выборка (Xval, yval), на которой настраивается коэффициент регуляризации; контрольная выборка (Xtest, ytest), на которой оценивается качество построенной модели.\n",
    "\n",
    "Задание.\n",
    "1. Загрузите данные ex3data1.mat из файла.\n",
    "2. Постройте график, где по осям откладываются X и y из обучающей выборки.\n",
    "3. Реализуйте функцию стоимости потерь для линейной регрессии с L2-регуляризацией.\n",
    "4. Реализуйте функцию градиентного спуска для линейной регрессии с L2-регуляризацией.\n",
    "5. Постройте модель линейной регрессии с коэффициентом регуляризации 0 и постройте график полученной функции совместно с графиком из пункта (2). Почему регуляризация в данном случае не сработает?\n",
    "6. Постройте график процесса обучения (learning curves) для обучающей и валидационной выборки. По оси абсцисс откладывается число элементов из обучающей выборки, а по оси ординат - ошибка (значение функции потерь) для обучающей выборки (первая кривая) и валидационной выборки (вторая кривая). Какой вывод можно сделать по построенному графику?\n",
    "7. Реализуйте функцию добавления p - 1 новых признаков в обучающую выборку (X2, X3, X4, …, Xp).\n",
    "8. Поскольку в данной задаче будет использован полином высокой степени, то необходимо перед обучением произвести нормализацию признаков.\n",
    "9. Обучите модель с коэффициентом регуляризации 0 и p = 8.\n",
    "10. Постройте график модели, совмещенный с обучающей выборкой, а также график процесса обучения. Какой вывод можно сделать в данном случае?\n",
    "11. Постройте графики из пункта 10 для моделей с коэффициентами регуляризации 1 и 100. Какие выводы можно сделать?\n",
    "12. С помощью валидационной выборки подберите коэффиент регуляризации, который позволяет достичь наименьшей ошибки. Процесс подбора отразите с помощью графика (графиков).\n",
    "13. Вычислите ошибку (потерю) на контрольной выборке.\n",
    "\n",
    "Ответы на вопросы представьте в виде отчета."
   ]
  },
  {
   "cell_type": "markdown",
   "metadata": {},
   "source": [
    "1. Загрузите данные ex3data1.mat из файла."
   ]
  },
  {
   "cell_type": "code",
   "execution_count": 1,
   "metadata": {},
   "outputs": [
    {
     "data": {
      "text/plain": [
       "((12, 1), (12,))"
      ]
     },
     "execution_count": 1,
     "metadata": {},
     "output_type": "execute_result"
    }
   ],
   "source": [
    "from scipy.io import loadmat\n",
    "data = loadmat(\"Data/Lab 3/ex3data1.mat\")\n",
    "\n",
    "Xtrain, ytrain = data[\"X\"], data[\"y\"].flatten()\n",
    "Xval, yval = data[\"Xval\"], data[\"yval\"].flatten()\n",
    "Xtest, ytest = data[\"Xtest\"], data[\"ytest\"].flatten()\n",
    "\n",
    "Xtrain.shape, ytrain.shape"
   ]
  },
  {
   "cell_type": "markdown",
   "metadata": {},
   "source": [
    "2. Постройте график, где по осям откладываются X и y из обучающей выборки."
   ]
  },
  {
   "cell_type": "code",
   "execution_count": 2,
   "metadata": {},
   "outputs": [
    {
     "data": {
      "image/png": "[encoded data removed]",
      "text/plain": [
       "<Figure size 432x288 with 1 Axes>"
      ]
     },
     "metadata": {
      "needs_background": "light"
     },
     "output_type": "display_data"
    }
   ],
   "source": [
    "import matplotlib.pyplot as plt\n",
    "%matplotlib inline\n",
    "\n",
    "plt.scatter(Xtrain, ytrain)\n",
    "plt.xlabel(\"X\")\n",
    "plt.ylabel(\"Y\")\n",
    "plt.show()"
   ]
  },
  {
   "cell_type": "markdown",
   "metadata": {},
   "source": [
    "3. Реализуйте функцию стоимости потерь для линейной регрессии с L2-регуляризацией.  \n",
    "4. Реализуйте функцию градиентного спуска для линейной регрессии с L2-регуляризацией.  \n",
    "\n",
    "(Частично перееиспользуем код из лабораторных 1-2)"
   ]
  },
  {
   "cell_type": "code",
   "execution_count": 3,
   "metadata": {},
   "outputs": [],
   "source": [
    "import numpy as np\n",
    "\n",
    "class Loss(object):\n",
    "    \n",
    "    def __init__(self, model):\n",
    "        self.model = model\n",
    "    \n",
    "    def __call__(self, x, y):\n",
    "        raise NotImplementedError\n",
    "    \n",
    "    def grad(self, x, y):\n",
    "        raise NotImplementedError\n",
    "\n",
    "\n",
    "class LinearRegression(object):\n",
    "    \n",
    "    def __init__(self, dim):\n",
    "        self.dim = dim + 1\n",
    "        self.w = np.zeros(dim + 1)\n",
    "    \n",
    "    @property\n",
    "    def weights(self):\n",
    "        return self.w[:-1]\n",
    "    \n",
    "    @property\n",
    "    def bias(self):\n",
    "        return self.w[-1]\n",
    "    \n",
    "    def __repr__(self):\n",
    "        return str(self.w)\n",
    "    \n",
    "    def __call__(self, x):\n",
    "        value = np.dot(x, self.weights) + self.bias\n",
    "        return float(value)\n",
    "    \n",
    "    def grad(self, x):\n",
    "        return np.array(list(x) + [1])\n",
    "    \n",
    "\n",
    "class MSELoss(Loss):\n",
    "    def __init__(self, model, reg_lambda):\n",
    "        super().__init__(model)\n",
    "        self.reg_lambda = reg_lambda\n",
    "\n",
    "    def __call__(self, x, y):\n",
    "        pred = np.array([self.model(x_i) for x_i in x])\n",
    "        return np.mean((pred - y) ** 2) + self.reg_lambda * np.sum(self.model.weights ** 2)\n",
    "    \n",
    "    def grad(self, x, y):\n",
    "        preds = np.array([self.model(x_i) for x_i in x])\n",
    "        grads = np.array([self.model.grad(x_i) for x_i in x])\n",
    "    \n",
    "        errors = np.expand_dims(preds - y, axis=1)\n",
    "        # No regularization for bias\n",
    "        reg_term = 2. * self.reg_lambda * np.array(self.model.weights.tolist() + [0])\n",
    "\n",
    "        return np.mean(2 * grads * errors, axis=0) + reg_term"
   ]
  },
  {
   "cell_type": "code",
   "execution_count": 4,
   "metadata": {},
   "outputs": [
    {
     "data": {
      "text/plain": [
       "(281.90824176110783, array([-491.30399299,  -22.43517865]))"
      ]
     },
     "execution_count": 4,
     "metadata": {},
     "output_type": "execute_result"
    }
   ],
   "source": [
    "model = LinearRegression(dim=1)\n",
    "loss = MSELoss(model, reg_lambda=1.)\n",
    "\n",
    "loss(Xtrain, ytrain), loss.grad(Xtrain, ytrain)"
   ]
  },
  {
   "cell_type": "code",
   "execution_count": 5,
   "metadata": {},
   "outputs": [],
   "source": [
    "def get_gradient_descent(loss, alpha, eps, validation=None):\n",
    "    def apply(X, y):\n",
    "        iter_num = 0\n",
    "        need_stop = False\n",
    "        \n",
    "        initial_loss = loss_before = loss_after = loss(X, y)\n",
    "\n",
    "        loss_steps = {\"train\": [], \"val\": []}\n",
    "        loss_steps[\"train\"].append(loss(X, y))\n",
    "        if validation is not None:\n",
    "            X_val, y_val = validation\n",
    "            loss_steps[\"val\"].append(loss(X_val, y_val))\n",
    "        \n",
    "        while not need_stop:\n",
    "            model_grad = loss.grad(X, y)  \n",
    "            assert model_grad.shape == loss.model.w.shape\n",
    "            \n",
    "            loss.model.w -= alpha * model_grad\n",
    "            loss_after = loss(X, y)\n",
    "            assert loss_before >= loss_after\n",
    "            \n",
    "            need_stop = loss_before - loss_after <= eps\n",
    "            \n",
    "            loss_before = loss_after\n",
    "\n",
    "            loss_steps[\"train\"].append(loss(X, y))\n",
    "            if validation is not None:\n",
    "                X_val, y_val = validation\n",
    "                loss_steps[\"val\"].append(loss(X_val, y_val))\n",
    "                \n",
    "            iter_num += 1\n",
    "        \n",
    "        return {\n",
    "            \"initial_loss\": initial_loss,\n",
    "            \"loss_after\": loss_after,\n",
    "            \"loss_steps\": loss_steps,\n",
    "            \"model\": loss.model,\n",
    "            \"iter_num\": iter_num\n",
    "        }\n",
    "    \n",
    "    return apply"
   ]
  },
  {
   "cell_type": "markdown",
   "metadata": {},
   "source": [
    "5. Постройте модель линейной регрессии с коэффициентом регуляризации 0 и постройте график полученной функции совместно с графиком из пункта (2). Почему регуляризация в данном случае не сработает?"
   ]
  },
  {
   "cell_type": "code",
   "execution_count": 6,
   "metadata": {},
   "outputs": [],
   "source": [
    "model = LinearRegression(dim=1)\n",
    "loss = MSELoss(model, reg_lambda=0.)"
   ]
  },
  {
   "cell_type": "code",
   "execution_count": 7,
   "metadata": {},
   "outputs": [],
   "source": [
    "gradient_descent = get_gradient_descent(loss, alpha=0.001, eps=1e-6)\n",
    "result = gradient_descent(Xtrain, ytrain)\n",
    "\n",
    "trained_model = result[\"model\"]"
   ]
  },
  {
   "cell_type": "code",
   "execution_count": 8,
   "metadata": {},
   "outputs": [
    {
     "data": {
      "image/png": "[encoded data removed]",
      "text/plain": [
       "<Figure size 432x288 with 1 Axes>"
      ]
     },
     "metadata": {
      "needs_background": "light"
     },
     "output_type": "display_data"
    }
   ],
   "source": [
    "X_linspace = np.expand_dims(np.linspace(-40, 40, 100), axis=1)\n",
    "y_linspace = np.array([trained_model(x_i) for x_i in X_linspace])\n",
    "\n",
    "plt.scatter(Xtrain, ytrain)\n",
    "plt.plot(X_linspace.flatten(), y_linspace)\n",
    "plt.xlabel(\"X\")\n",
    "plt.ylabel(\"Y\")\n",
    "plt.show()"
   ]
  },
  {
   "cell_type": "markdown",
   "metadata": {},
   "source": [
    "Регуляризация тут не сработает потому что $\\lambda$ = 0, те. слагаемое при L2-регуляризации зануляется в лоссе и градиенте"
   ]
  },
  {
   "cell_type": "markdown",
   "metadata": {},
   "source": [
    "6. Постройте график процесса обучения (learning curves) для обучающей и валидационной выборки. По оси абсцисс откладывается число элементов из обучающей выборки, а по оси ординат - ошибка (значение функции потерь) для обучающей выборки (первая кривая) и валидационной выборки (вторая кривая). Какой вывод можно сделать по построенному графику?"
   ]
  },
  {
   "cell_type": "code",
   "execution_count": 9,
   "metadata": {},
   "outputs": [],
   "source": [
    "model = LinearRegression(dim=1)\n",
    "loss = MSELoss(model, reg_lambda=0.)"
   ]
  },
  {
   "cell_type": "code",
   "execution_count": 10,
   "metadata": {},
   "outputs": [],
   "source": [
    "gradient_descent = get_gradient_descent(loss, alpha=0.001, eps=1e-6, validation=(Xval, yval))\n",
    "result = gradient_descent(Xtrain, ytrain)\n",
    "\n",
    "train_curve = result[\"loss_steps\"][\"train\"]\n",
    "val_curve = result[\"loss_steps\"][\"val\"]\n",
    "\n",
    "assert len(train_curve) == len(val_curve)"
   ]
  },
  {
   "cell_type": "code",
   "execution_count": 11,
   "metadata": {},
   "outputs": [
    {
     "data": {
      "image/png": "[encoded data removed]",
      "text/plain": [
       "<Figure size 432x288 with 1 Axes>"
      ]
     },
     "metadata": {
      "needs_background": "light"
     },
     "output_type": "display_data"
    }
   ],
   "source": [
    "plt.plot(train_curve)\n",
    "plt.plot(val_curve)\n",
    "plt.show()"
   ]
  },
  {
   "cell_type": "markdown",
   "metadata": {},
   "source": [
    "Значительного переобучения не наблюдается даже при $\\lambda=0$ т.к. у модели сильный bias - мы аппроксимируем линейной функцию нелинейную зависимость (о чем свидетельствует достаточно большой train loss)"
   ]
  },
  {
   "cell_type": "markdown",
   "metadata": {},
   "source": [
    "7. Реализуйте функцию добавления p - 1 новых признаков в обучающую выборку (X2, X3, X4, …, Xp)."
   ]
  },
  {
   "cell_type": "code",
   "execution_count": 12,
   "metadata": {},
   "outputs": [],
   "source": [
    "from sklearn.preprocessing import PolynomialFeatures\n",
    "\n",
    "def add_polynomial_features(X, p):\n",
    "    polynomial_transform = PolynomialFeatures(degree=p)\n",
    "    return polynomial_transform.fit_transform(X)"
   ]
  },
  {
   "cell_type": "markdown",
   "metadata": {},
   "source": [
    "8. Поскольку в данной задаче будет использован полином высокой степени, то необходимо перед обучением произвести нормализацию признаков."
   ]
  },
  {
   "cell_type": "code",
   "execution_count": 13,
   "metadata": {},
   "outputs": [],
   "source": [
    "X_train_norm = (Xtrain - Xtrain.mean(axis=0)) / Xtrain.std(axis=0)\n",
    "assert X_train_norm.shape[0] == len(ytrain)"
   ]
  },
  {
   "cell_type": "code",
   "execution_count": 14,
   "metadata": {},
   "outputs": [],
   "source": [
    "X_val_norm = (Xval - Xtrain.mean(axis=0)) / Xtrain.std(axis=0)\n",
    "assert X_val_norm.shape[0] == len(yval)"
   ]
  },
  {
   "cell_type": "code",
   "execution_count": 15,
   "metadata": {},
   "outputs": [],
   "source": [
    "X_test_norm = (Xtest - Xtrain.mean(axis=0)) / Xtrain.std(axis=0)\n",
    "assert X_test_norm.shape[0] == len(yval)"
   ]
  },
  {
   "cell_type": "markdown",
   "metadata": {},
   "source": [
    "9. Обучите модель с коэффициентом регуляризации 0 и p = 8."
   ]
  },
  {
   "cell_type": "code",
   "execution_count": 20,
   "metadata": {},
   "outputs": [
    {
     "data": {
      "text/plain": [
       "[ 2.3979646   5.3533757   3.44534834  3.37967537  2.62010226  1.59080736\n",
       "  1.42033116 -0.88809698 -0.88220668  2.3979646 ]"
      ]
     },
     "execution_count": 20,
     "metadata": {},
     "output_type": "execute_result"
    }
   ],
   "source": [
    "X_train_new = add_polynomial_features(X_train_norm, p=8)\n",
    "X_val_new = add_polynomial_features(X_val_norm, p=8)\n",
    "\n",
    "def train_model_with_regularization(train, val, reg_lambda):\n",
    "    X_train, y_train = train\n",
    "    model = LinearRegression(dim=X_train.shape[1])\n",
    "    loss = MSELoss(model, reg_lambda)\n",
    "\n",
    "    gradient_descent = get_gradient_descent(loss, alpha=0.001, eps=1e-3, validation=val)\n",
    "    return gradient_descent(X_train, y_train)\n",
    "    \n",
    "result_0 = train_model_with_regularization((X_train_new, ytrain), (X_val_new, yval), reg_lambda=0.)\n",
    "result_0[\"model\"]"
   ]
  },
  {
   "cell_type": "markdown",
   "metadata": {},
   "source": [
    "10. Постройте график модели, совмещенный с обучающей выборкой, а также график процесса обучения. Какой вывод можно сделать в данном случае?"
   ]
  },
  {
   "cell_type": "code",
   "execution_count": 21,
   "metadata": {},
   "outputs": [
    {
     "data": {
      "image/png": "[encoded data removed]",
      "text/plain": [
       "<Figure size 432x288 with 1 Axes>"
      ]
     },
     "metadata": {
      "needs_background": "light"
     },
     "output_type": "display_data"
    }
   ],
   "source": [
    "train_curve = result_0[\"loss_steps\"][\"train\"]\n",
    "validation_curve = result_0[\"loss_steps\"][\"val\"]\n",
    "\n",
    "plt.plot(train_curve)\n",
    "plt.plot(validation_curve)\n",
    "plt.ylim((0, 500))\n",
    "plt.show()"
   ]
  },
  {
   "cell_type": "markdown",
   "metadata": {},
   "source": [
    "Модель сошлась, лосс значительно ниже, чем был до лобавления полиномиальных фич. При этом на валидационной выборке показывает себя плохо - модель переобучена."
   ]
  },
  {
   "cell_type": "code",
   "execution_count": 22,
   "metadata": {},
   "outputs": [
    {
     "data": {
      "image/png": "[encoded data removed]",
      "text/plain": [
       "<Figure size 432x288 with 1 Axes>"
      ]
     },
     "metadata": {
      "needs_background": "light"
     },
     "output_type": "display_data"
    }
   ],
   "source": [
    "trained_model = result_0[\"model\"]\n",
    "\n",
    "X_linspace = np.expand_dims(np.linspace(np.min(X_train_norm), np.max(X_train_norm), 50), axis=1)\n",
    "X_linspace_new = add_polynomial_features(X_linspace, p=8)\n",
    "\n",
    "y_linspace = np.array([trained_model(x_i) for x_i in X_linspace_new])\n",
    "\n",
    "plt.scatter(X_train_norm, ytrain)\n",
    "plt.plot(X_linspace.flatten(), y_linspace)\n",
    "plt.xlabel(\"X\")\n",
    "plt.ylabel(\"Y\")\n",
    "plt.show()"
   ]
  },
  {
   "cell_type": "markdown",
   "metadata": {},
   "source": [
    "Модель почти идеально описывает данные из тренировочной выборки"
   ]
  },
  {
   "cell_type": "markdown",
   "metadata": {},
   "source": [
    "11. Постройте графики из пункта 10 для моделей с коэффициентами регуляризации 1 и 100. Какие выводы можно сделать?"
   ]
  },
  {
   "cell_type": "code",
   "execution_count": 23,
   "metadata": {},
   "outputs": [],
   "source": [
    "result_1 = train_model_with_regularization((X_train_new, ytrain), (X_val_new, yval), reg_lambda=1.)\n",
    "result_100 = train_model_with_regularization((X_train_new, ytrain), (X_val_new, yval), reg_lambda=100.)"
   ]
  },
  {
   "cell_type": "code",
   "execution_count": 24,
   "metadata": {},
   "outputs": [
    {
     "data": {
      "image/png": "[encoded data removed]",
      "text/plain": [
       "<Figure size 432x288 with 1 Axes>"
      ]
     },
     "metadata": {
      "needs_background": "light"
     },
     "output_type": "display_data"
    }
   ],
   "source": [
    "train_curve = result_1[\"loss_steps\"][\"train\"]\n",
    "validation_curve = result_1[\"loss_steps\"][\"val\"]\n",
    "\n",
    "plt.plot(train_curve)\n",
    "plt.plot(validation_curve)\n",
    "plt.ylim((0, 500))\n",
    "plt.show()"
   ]
  },
  {
   "cell_type": "code",
   "execution_count": 25,
   "metadata": {},
   "outputs": [
    {
     "data": {
      "image/png": "[encoded data removed]",
      "text/plain": [
       "<Figure size 432x288 with 1 Axes>"
      ]
     },
     "metadata": {
      "needs_background": "light"
     },
     "output_type": "display_data"
    }
   ],
   "source": [
    "trained_model = result_1[\"model\"]\n",
    "\n",
    "X_linspace = np.expand_dims(np.linspace(np.min(X_train_norm), np.max(X_train_norm), 50), axis=1)\n",
    "X_linspace_new = add_polynomial_features(X_linspace, p=8)\n",
    "\n",
    "y_linspace = np.array([trained_model(x_i) for x_i in X_linspace_new])\n",
    "\n",
    "plt.scatter(X_train_norm, ytrain)\n",
    "plt.plot(X_linspace.flatten(), y_linspace)\n",
    "plt.xlabel(\"X\")\n",
    "plt.ylabel(\"Y\")\n",
    "plt.show()"
   ]
  },
  {
   "cell_type": "code",
   "execution_count": 26,
   "metadata": {},
   "outputs": [
    {
     "data": {
      "image/png": "[encoded data removed]",
      "text/plain": [
       "<Figure size 432x288 with 1 Axes>"
      ]
     },
     "metadata": {
      "needs_background": "light"
     },
     "output_type": "display_data"
    }
   ],
   "source": [
    "train_curve = result_100[\"loss_steps\"][\"train\"]\n",
    "validation_curve = result_100[\"loss_steps\"][\"val\"]\n",
    "\n",
    "plt.plot(train_curve)\n",
    "plt.plot(validation_curve)\n",
    "plt.ylim((0, 500))\n",
    "plt.show()"
   ]
  },
  {
   "cell_type": "code",
   "execution_count": 27,
   "metadata": {},
   "outputs": [
    {
     "data": {
      "image/png": "[encoded data removed]",
      "text/plain": [
       "<Figure size 432x288 with 1 Axes>"
      ]
     },
     "metadata": {
      "needs_background": "light"
     },
     "output_type": "display_data"
    }
   ],
   "source": [
    "trained_model = result_100[\"model\"]\n",
    "\n",
    "X_linspace = np.expand_dims(np.linspace(np.min(X_train_norm), np.max(X_train_norm), 50), axis=1)\n",
    "X_linspace_new = add_polynomial_features(X_linspace, p=8)\n",
    "\n",
    "y_linspace = np.array([trained_model(x_i) for x_i in X_linspace_new])\n",
    "\n",
    "plt.scatter(X_train_norm, ytrain)\n",
    "plt.plot(X_linspace.flatten(), y_linspace)\n",
    "plt.xlabel(\"X\")\n",
    "plt.ylabel(\"Y\")\n",
    "plt.show()"
   ]
  },
  {
   "cell_type": "markdown",
   "metadata": {},
   "source": [
    "Видно, что регуляризация не дает модели переобучаться, однако излишняя регуляризация приводит к тому, что модель не может выучить зависимости исходных данных. Необходимо грамотно подобрать константу регуляризации, чтобы модель могла одновременно выучить зависимости из тренировочной выборки и генерализироваться на данные вне тренировочной выборки"
   ]
  },
  {
   "cell_type": "markdown",
   "metadata": {},
   "source": [
    "12. С помощью валидационной выборки подберите коэффиент регуляризации, который позволяет достичь наименьшей ошибки. Процесс подбора отразите с помощью графика (графиков)."
   ]
  },
  {
   "cell_type": "code",
   "execution_count": 40,
   "metadata": {},
   "outputs": [],
   "source": [
    "reg_lambda_range = np.arange(0., 5., 0.1)\n",
    "val_loss_values = []\n",
    "\n",
    "for reg_lambda in reg_lambda_range:\n",
    "    result = train_model_with_regularization((X_train_new, ytrain), val=None, reg_lambda=reg_lambda)\n",
    "    trained_model = result[\"model\"]\n",
    "\n",
    "    # Use MSELoss as a metric here, reg_lambda is not needed\n",
    "    val_loss = MSELoss(trained_model, reg_lambda=0)\n",
    "    val_loss_values.append(val_loss(X_val_new, yval))"
   ]
  },
  {
   "cell_type": "code",
   "execution_count": 48,
   "metadata": {},
   "outputs": [
    {
     "data": {
      "image/png": "[encoded data removed]",
      "text/plain": [
       "<Figure size 1440x432 with 1 Axes>"
      ]
     },
     "metadata": {
      "needs_background": "light"
     },
     "output_type": "display_data"
    }
   ],
   "source": [
    "fig = plt.figure(figsize=(20, 6))\n",
    "plt.scatter(reg_lambda_range, val_loss_values)\n",
    "plt.xticks(reg_lambda_range)\n",
    "plt.xlabel(\"Regularization lambda\")\n",
    "plt.ylabel(\"Validation loss\")\n",
    "plt.show()"
   ]
  },
  {
   "cell_type": "code",
   "execution_count": 49,
   "metadata": {},
   "outputs": [
    {
     "data": {
      "text/plain": [
       "0.2"
      ]
     },
     "execution_count": 49,
     "metadata": {},
     "output_type": "execute_result"
    }
   ],
   "source": [
    "optimal_reg_lambda = reg_lambda_range[np.argmin(val_loss_values)]\n",
    "optimal_reg_lambda"
   ]
  },
  {
   "cell_type": "markdown",
   "metadata": {},
   "source": [
    "13. Вычислите ошибку (потерю) на контрольной выборке."
   ]
  },
  {
   "cell_type": "code",
   "execution_count": 50,
   "metadata": {},
   "outputs": [],
   "source": [
    "best_result = train_model_with_regularization((X_train_new, ytrain), val=None, reg_lambda=optimal_reg_lambda)\n",
    "best_model = best_result[\"model\"]"
   ]
  },
  {
   "cell_type": "code",
   "execution_count": 52,
   "metadata": {},
   "outputs": [],
   "source": [
    "X_test_new = add_polynomial_features(X_test_norm, p=8)"
   ]
  },
  {
   "cell_type": "code",
   "execution_count": 54,
   "metadata": {},
   "outputs": [
    {
     "data": {
      "image/png": "[encoded data removed]",
      "text/plain": [
       "<Figure size 432x288 with 1 Axes>"
      ]
     },
     "metadata": {
      "needs_background": "light"
     },
     "output_type": "display_data"
    }
   ],
   "source": [
    "X_linspace = np.expand_dims(np.linspace(np.min(X_test_norm), np.max(X_test_norm), 50), axis=1)\n",
    "X_linspace_new = add_polynomial_features(X_linspace, p=8)\n",
    "\n",
    "y_linspace = np.array([best_model(x_i) for x_i in X_linspace_new])\n",
    "\n",
    "plt.scatter(X_test_norm, ytest)\n",
    "plt.plot(X_linspace.flatten(), y_linspace)\n",
    "plt.xlabel(\"X\")\n",
    "plt.ylabel(\"Y\")\n",
    "plt.show()"
   ]
  },
  {
   "cell_type": "code",
   "execution_count": 55,
   "metadata": {},
   "outputs": [
    {
     "data": {
      "text/plain": [
       "10.660894037084287"
      ]
     },
     "execution_count": 55,
     "metadata": {},
     "output_type": "execute_result"
    }
   ],
   "source": [
    "test_loss = MSELoss(best_model, reg_lambda=0)\n",
    "test_loss(X_test_new, ytest)"
   ]
  }
 ],
 "metadata": {
  "kernelspec": {
   "display_name": "Python 3",
   "language": "python",
   "name": "python3"
  },
  "language_info": {
   "codemirror_mode": {
    "name": "ipython",
    "version": 3
   },
   "file_extension": ".py",
   "mimetype": "text/x-python",
   "name": "python",
   "nbconvert_exporter": "python",
   "pygments_lexer": "ipython3",
   "version": "3.7.4"
  }
 },
 "nbformat": 4,
 "nbformat_minor": 2
}

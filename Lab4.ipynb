{
 "cells": [
  {
   "cell_type": "markdown",
   "metadata": {},
   "source": [
    "# Лабораторная работа №4 “Нейронные сети”"
   ]
  },
  {
   "cell_type": "markdown",
   "metadata": {},
   "source": [
    "# Задание\n",
    "\n",
    "Набор данных ex4data1.mat (такой же, как в лабораторной работе №2) представляет собой файл формата *.mat (т.е. сохраненного из Matlab). Набор содержит 5000 изображений 20x20 в оттенках серого. Каждый пиксель представляет собой значение яркости (вещественное число). Каждое изображение сохранено в виде вектора из 400 элементов. В результате загрузки набора данных должна быть получена матрица 5000x400. Далее расположены метки классов изображений от 1 до 9 (соответствуют цифрам от 1 до 9), а также 10 (соответствует цифре 0).\n",
    "\n",
    "1. Загрузите данные ex4data1.mat из файла.\n",
    "2. Загрузите веса нейронной сети из файла ex4weights.mat, который содержит две матрицы Θ(1) (25, 401) и Θ(2) (10, 26). Какова структура полученной нейронной сети?\n",
    "3. Реализуйте функцию прямого распространения с сигмоидом в качестве функции активации. \n",
    "4. Вычислите процент правильных классификаций на обучающей выборке. Сравните полученный результат с логистической регрессией.\n",
    "5. Перекодируйте исходные метки классов по схеме one-hot.\n",
    "6. Реализуйте функцию стоимости для данной нейронной сети.\n",
    "7. Добавьте L2-регуляризацию в функцию стоимости.\n",
    "8. Реализуйте функцию вычисления производной для функции активации.\n",
    "9. Инициализируйте веса небольшими случайными числами.\n",
    "10. Реализуйте алгоритм обратного распространения ошибки для данной конфигурации сети.\n",
    "11. Для того, чтобы удостоверится в правильности вычисленных значений градиентов используйте метод проверки градиента с параметром ε = 10-4.\n",
    "12. Добавьте L2-регуляризацию в процесс вычисления градиентов.\n",
    "13. Проверьте полученные значения градиента.\n",
    "14. Обучите нейронную сеть с использованием градиентного спуска или других более эффективных методов оптимизации.\n",
    "15. Вычислите процент правильных классификаций на обучающей выборке.\n",
    "16. Визуализируйте скрытый слой обученной сети.\n",
    "17. Подберите параметр регуляризации. Как меняются изображения на скрытом слое в зависимости от данного параметра?"
   ]
  },
  {
   "cell_type": "code",
   "execution_count": 1,
   "metadata": {},
   "outputs": [],
   "source": [
    "from scipy.io import loadmat\n",
    "import numpy as np\n",
    "import matplotlib.pyplot as plt"
   ]
  },
  {
   "cell_type": "markdown",
   "metadata": {},
   "source": [
    "1. Загрузите данные ex4data1.mat из файла."
   ]
  },
  {
   "cell_type": "code",
   "execution_count": 5,
   "metadata": {},
   "outputs": [
    {
     "name": "stdout",
     "output_type": "stream",
     "text": [
      "(5000, 400) (5000,)\n"
     ]
    }
   ],
   "source": [
    "data = loadmat(\"Data/Lab 4/ex4data1.mat\")\n",
    "X, y = data[\"X\"], data[\"y\"].flatten()\n",
    "\n",
    "print(X.shape, y.shape)"
   ]
  },
  {
   "cell_type": "markdown",
   "metadata": {},
   "source": [
    "2. Загрузите веса нейронной сети из файла ex4weights.mat, который содержит две матрицы Θ1 (25, 401) и Θ2 (10, 26). Какова структура полученной нейронной сети?"
   ]
  },
  {
   "cell_type": "code",
   "execution_count": 7,
   "metadata": {},
   "outputs": [
    {
     "name": "stdout",
     "output_type": "stream",
     "text": [
      "(25, 401) (10, 26)\n"
     ]
    }
   ],
   "source": [
    "data = loadmat(\"Data/Lab 4/ex4weights.mat\")\n",
    "theta1, theta2 = data['Theta1'], data['Theta2']\n",
    "\n",
    "print(theta1.shape, theta2.shape)"
   ]
  },
  {
   "cell_type": "markdown",
   "metadata": {},
   "source": [
    "Это двухслойный перцептрон (MLP)."
   ]
  },
  {
   "cell_type": "markdown",
   "metadata": {},
   "source": [
    "3. Реализуйте функцию прямого распространения с сигмоидом в качестве функции активации. "
   ]
  },
  {
   "cell_type": "code",
   "execution_count": 12,
   "metadata": {},
   "outputs": [],
   "source": [
    "class Param:\n",
    "    def __init__(self, value):\n",
    "        self.value = value\n",
    "        self.grad = np.zeros_like(value)\n",
    "        \n",
    "\n",
    "class DenseLayer:\n",
    "    def __init__(self, W, B):\n",
    "        self.W = Param(W)\n",
    "        self.B = Param(B)\n",
    "        self.X = None\n",
    "\n",
    "    def forward(self, X):\n",
    "        self.X = X\n",
    "        result = self.X @ self.W.value + self.B.value\n",
    "\n",
    "        return result\n",
    "\n",
    "class Sigmoid:\n",
    "    def forward(self, X):\n",
    "        return 1. / (1. + np.exp(-X))\n",
    "\n",
    "    \n",
    "class Model:\n",
    "    def __init__(self, W1, W2, B1, B2):\n",
    "        self.fc1 = DenseLayer(W1, B1)\n",
    "        self.fc2 = DenseLayer(W2, B2)\n",
    "        self.activation = Sigmoid()\n",
    "    \n",
    "    def forward(self, X):\n",
    "        predictions = self.fc1.forward(X)\n",
    "        predictions = self.activation.forward(predictions)\n",
    "        predictions = self.fc2.forward(predictions)\n",
    "        \n",
    "        return predictions\n",
    "        \n",
    "    def predict(self, X):\n",
    "        predictions = self.forward(X)\n",
    "        pred = np.argmax(predictions, axis=1)\n",
    "\n",
    "        return pred"
   ]
  },
  {
   "cell_type": "markdown",
   "metadata": {},
   "source": [
    "4. Вычислите процент правильных классификаций на обучающей выборке. Сравните полученный результат с логистической регрессией."
   ]
  },
  {
   "cell_type": "code",
   "execution_count": 16,
   "metadata": {},
   "outputs": [],
   "source": [
    "theta1_tr, theta2_tr = theta1.transpose(), theta2.transpose()\n",
    "W1, W2 = theta1_tr[1:, :], theta2_tr[1:, :]\n",
    "B1, B2 = theta1_tr[0, :], theta2_tr[0, :]\n",
    "\n",
    "model = Model(W1, W2, B1, B2)"
   ]
  },
  {
   "cell_type": "code",
   "execution_count": 17,
   "metadata": {},
   "outputs": [],
   "source": [
    "predictions = model.predict(X)"
   ]
  },
  {
   "cell_type": "code",
   "execution_count": 18,
   "metadata": {},
   "outputs": [],
   "source": [
    "def accuracy(prediction, ground_truth):\n",
    "    right_predictions = prediction == ground_truth\n",
    "    accuracy = right_predictions.sum() / right_predictions.shape[0]\n",
    "\n",
    "    return accuracy"
   ]
  },
  {
   "cell_type": "code",
   "execution_count": 20,
   "metadata": {},
   "outputs": [
    {
     "data": {
      "text/plain": [
       "0.9752"
      ]
     },
     "execution_count": 20,
     "metadata": {},
     "output_type": "execute_result"
    }
   ],
   "source": [
    "shifted_classes = y - 1\n",
    "accuracy(predictions, shifted_classes)"
   ]
  },
  {
   "cell_type": "markdown",
   "metadata": {},
   "source": [
    "Мультиклассовая точность сотавляет **0.9752** в сравнени с **0.9476** полученными с помощью линейной модели (one-vs-all логистической регресии). Замеры произведены на обучающей выборке. "
   ]
  },
  {
   "cell_type": "markdown",
   "metadata": {},
   "source": [
    "5. Перекодируйте исходные метки классов по схеме one-hot."
   ]
  },
  {
   "cell_type": "code",
   "execution_count": 26,
   "metadata": {},
   "outputs": [
    {
     "data": {
      "text/plain": [
       "(5000, 10)"
      ]
     },
     "execution_count": 26,
     "metadata": {},
     "output_type": "execute_result"
    }
   ],
   "source": [
    "from sklearn.preprocessing import OneHotEncoder\n",
    "\n",
    "label_encoder = OneHotEncoder(categories='auto')\n",
    "y_one_hot = label_encoder.fit_transform(y.reshape(-1, 1)).toarray()\n",
    "y_one_hot.shape"
   ]
  },
  {
   "cell_type": "code",
   "execution_count": 27,
   "metadata": {},
   "outputs": [
    {
     "data": {
      "text/plain": [
       "array([0., 0., 0., 0., 0., 0., 0., 0., 0., 1.])"
      ]
     },
     "execution_count": 27,
     "metadata": {},
     "output_type": "execute_result"
    }
   ],
   "source": [
    "y_one_hot[0]"
   ]
  },
  {
   "cell_type": "markdown",
   "metadata": {},
   "source": [
    "6. Реализуйте функцию стоимости для данной нейронной сети."
   ]
  },
  {
   "cell_type": "code",
   "execution_count": 36,
   "metadata": {},
   "outputs": [],
   "source": [
    "def softmax_with_cross_entropy(predictions, target_index):\n",
    "    # For stabilization\n",
    "    predictions = predictions - np.max(predictions, axis=1)[:, np.newaxis]\n",
    "    softmax_values = np.exp(predictions) / np.sum(np.exp(predictions), axis=1)[:, np.newaxis]\n",
    "\n",
    "    loss = -np.log(softmax_values[range(softmax_values.shape[0]), target_index])\n",
    "    loss = np.sum(loss)\n",
    "\n",
    "    prediction_grad = softmax_values\n",
    "    prediction_grad[range(prediction_grad.shape[0]), target_index] -= 1\n",
    "\n",
    "    return loss, prediction_grad"
   ]
  },
  {
   "cell_type": "code",
   "execution_count": 38,
   "metadata": {},
   "outputs": [
    {
     "data": {
      "text/plain": [
       "(434.443764480019,\n",
       " array([ 4.82663458e-07,  7.47213968e-06,  1.08522227e-05,  7.88355204e-08,\n",
       "         4.04858629e-05,  1.71721350e-05,  2.37564202e-05,  1.72046278e-06,\n",
       "         2.79426125e-05, -1.29963355e-04]))"
      ]
     },
     "execution_count": 38,
     "metadata": {},
     "output_type": "execute_result"
    }
   ],
   "source": [
    "loss, grad = softmax_with_cross_entropy(model.forward(X), y_one_hot.argmax(axis=1))\n",
    "loss, grad[0]"
   ]
  },
  {
   "cell_type": "markdown",
   "metadata": {},
   "source": [
    "7. Добавьте L2-регуляризацию в функцию стоимости."
   ]
  },
  {
   "cell_type": "code",
   "execution_count": 39,
   "metadata": {},
   "outputs": [],
   "source": [
    "def l2_regularization(W, reg_lambda):\n",
    "    loss = reg_lambda * np.sum(W**2)\n",
    "    grad = reg_lambda * 2 * W\n",
    "\n",
    "    return loss, grad"
   ]
  },
  {
   "cell_type": "markdown",
   "metadata": {},
   "source": [
    "8. Реализуйте функцию вычисления производной для функции активации."
   ]
  },
  {
   "cell_type": "code",
   "execution_count": 43,
   "metadata": {},
   "outputs": [],
   "source": [
    "class Sigmoid:\n",
    "    def __init__(self):\n",
    "        self.value = None\n",
    "\n",
    "    def forward(self, X):\n",
    "        self.value = 1. / (1. + np.exp(-X))\n",
    "        return self.value \n",
    "    \n",
    "    def backward(self, d_out):\n",
    "        # Sigmoid derivative\n",
    "        d_sigmoid = (1. - self.value) * self.value\n",
    "        # Chain rule\n",
    "        return d_out * d_sigmoid\n",
    "\n",
    "    def params(self):\n",
    "        # Sigmoid Doesn't have any parameters\n",
    "        return {}\n",
    "    \n",
    "\n",
    "class DenseLayer:\n",
    "    def __init__(self, W, B):\n",
    "        self.W = Param(W)\n",
    "        self.B = Param(B)\n",
    "        \n",
    "        self.X = None\n",
    "\n",
    "    def forward(self, X):\n",
    "        self.X = X\n",
    "        result = self.X @ self.W.value + self.B.value\n",
    "\n",
    "        return result\n",
    "    \n",
    "    def backward(self, d_out):\n",
    "        d_input = d_out @ self.W.value.T\n",
    "\n",
    "        self.W.grad = self.X.T @ d_out\n",
    "        self.B.grad = np.sum(d_out, axis=0) * np.ones_like(self.B.value)\n",
    "\n",
    "        return d_input\n",
    "\n",
    "    def params(self):\n",
    "        return {'W': self.W, 'B': self.B}"
   ]
  },
  {
   "cell_type": "markdown",
   "metadata": {},
   "source": [
    "9. Инициализируйте веса небольшими случайными числами."
   ]
  },
  {
   "cell_type": "code",
   "execution_count": 49,
   "metadata": {},
   "outputs": [],
   "source": [
    "W1_init = np.random.randn(400, 25)\n",
    "W2_init = np.random.randn(25, 10)\n",
    "B1_init = np.random.randn(25)\n",
    "B2_init = np.random.randn(10)"
   ]
  },
  {
   "cell_type": "markdown",
   "metadata": {},
   "source": [
    "10. Реализуйте алгоритм обратного распространения ошибки для данной конфигурации сети."
   ]
  },
  {
   "cell_type": "code",
   "execution_count": 50,
   "metadata": {},
   "outputs": [],
   "source": [
    "class Model:\n",
    "    def __init__(self, W1, W2, B1, B2, reg_lambda):\n",
    "        self.fc1 = DenseLayer(W1, B1)\n",
    "        self.sigmoid = Sigmoid()\n",
    "        self.fc2 = DenseLayer(W2, B2)\n",
    "        self.reg = reg_lambda\n",
    "           \n",
    "    def forward(self, X):\n",
    "        predictions = self.fc1.forward(X)\n",
    "        predictions = self.sigmoid.forward(predictions)\n",
    "        predictions = self.fc2.forward(predictions)\n",
    "        \n",
    "        return predictions\n",
    "        \n",
    "    def predict(self, X):\n",
    "        predictions = self.forward(X)\n",
    "        pred = np.argmax(predictions, axis=1)\n",
    "\n",
    "        return pred\n",
    "    \n",
    "    def compute_loss_and_gradients(self, X, y):\n",
    "        # Like in PyTorch: clean gradients for all layers\n",
    "        for param in self.params().values():\n",
    "            param.grad = np.zeros_like(param.grad)\n",
    "\n",
    "        predictions = self.forward(X)\n",
    "        cross_entropy_loss, dpredictions = softmax_with_cross_entropy(predictions, y)\n",
    "        \n",
    "        # Backward:\n",
    "        dpredictions = self.fc2.backward(dpredictions)\n",
    "        dpredictions = self.sigmoid.backward(dpredictions)\n",
    "        dpredictions = self.fc1.backward(dpredictions)\n",
    "        dX = dpredictions\n",
    "\n",
    "        total_regularization_loss = 0\n",
    "        for param in self.params().values():\n",
    "            l2_loss, l2_grad = l2_regularization(param.value, self.reg)\n",
    "\n",
    "            param.grad += l2_grad\n",
    "            total_regularization_loss += l2_loss\n",
    "\n",
    "        loss = cross_entropy_loss + total_regularization_loss\n",
    "\n",
    "        return loss\n",
    "\n",
    "    def params(self):\n",
    "        result = {\n",
    "            'W1': self.fc1.W,\n",
    "            'B1': self.fc1.B,\n",
    "            'W2': self.fc2.W,\n",
    "            'B2': self.fc2.B\n",
    "        }\n",
    "\n",
    "        return result"
   ]
  },
  {
   "cell_type": "markdown",
   "metadata": {},
   "source": [
    "11. Для того, чтобы удостоверится в правильности вычисленных значений градиентов используйте метод проверки градиента с параметром ε = 10^(-4)."
   ]
  },
  {
   "cell_type": "code",
   "execution_count": 66,
   "metadata": {},
   "outputs": [],
   "source": [
    "def check_gradient(f, x, delta, tol):\n",
    "    assert isinstance(x, np.ndarray)\n",
    "    assert x.dtype == np.float\n",
    "    \n",
    "    orig_x = x.copy()\n",
    "    fx, analytic_grad = f(x)\n",
    "    assert np.all(np.isclose(orig_x, x, tol)), \"Functions shouldn't modify input variables\"\n",
    "\n",
    "    assert analytic_grad.shape == x.shape\n",
    "    analytic_grad = analytic_grad.copy()\n",
    "\n",
    "    it = np.nditer(x, flags=['multi_index'], op_flags=['readwrite'])\n",
    "    while not it.finished:\n",
    "        ix = it.multi_index\n",
    "        analytic_grad_at_ix = analytic_grad[ix]\n",
    "\n",
    "        h = np.zeros_like(x)\n",
    "        h[ix] += 1\n",
    "\n",
    "        numeric_grad_at_ix = (f(x + delta*h)[0] - f(x - delta*h)[0]) / (2 * delta)\n",
    "\n",
    "        if not np.isclose(numeric_grad_at_ix, analytic_grad_at_ix, tol):\n",
    "            print(\"Gradients are different at %s. Analytic: %2.5f, Numeric: %2.5f\" % (ix, analytic_grad_at_ix, numeric_grad_at_ix))\n",
    "            return False\n",
    "\n",
    "        it.iternext()\n",
    "\n",
    "    print(\"Gradient check passed!\")\n",
    "    return True\n",
    "\n",
    "\n",
    "def check_model_gradient(model, X, y, delta, eps):\n",
    "    params = model.params()\n",
    "\n",
    "    for param_key in params:\n",
    "        print(\"Checking gradient for %s\" % param_key)\n",
    "        param = params[param_key]\n",
    "        initial_w = param.value\n",
    "\n",
    "        def helper_func(w):\n",
    "            param.value = w\n",
    "            loss = model.compute_loss_and_gradients(X, y)\n",
    "            grad = param.grad\n",
    "            return loss, grad\n",
    "\n",
    "        if not check_gradient(helper_func, initial_w, delta, eps):\n",
    "            return False\n",
    "\n",
    "    return True"
   ]
  },
  {
   "cell_type": "code",
   "execution_count": 67,
   "metadata": {},
   "outputs": [],
   "source": [
    "model = Model(W1_init, W2_init, B1_init, B2_init, reg_lambda=0)"
   ]
  },
  {
   "cell_type": "code",
   "execution_count": 69,
   "metadata": {},
   "outputs": [
    {
     "name": "stdout",
     "output_type": "stream",
     "text": [
      "Checking gradient for W1\n",
      "Gradient check passed!\n",
      "Checking gradient for B1\n",
      "Gradient check passed!\n",
      "Checking gradient for W2\n",
      "Gradient check passed!\n",
      "Checking gradient for B2\n",
      "Gradient check passed!\n"
     ]
    }
   ],
   "source": [
    "batch_size = 1\n",
    "assert check_model_gradient(\n",
    "    model, \n",
    "    X[:batch_size], \n",
    "    y_one_hot.argmax(axis=1)[:batch_size],\n",
    "    delta=1e-6,\n",
    "    eps=1e-4\n",
    ")"
   ]
  },
  {
   "cell_type": "markdown",
   "metadata": {},
   "source": [
    "12. Добавьте L2-регуляризацию в процесс вычисления градиентов."
   ]
  },
  {
   "cell_type": "code",
   "execution_count": 70,
   "metadata": {},
   "outputs": [],
   "source": [
    "model = Model(W1_init, W2_init, B1_init, B2_init, reg_lambda=1e-2)"
   ]
  },
  {
   "cell_type": "markdown",
   "metadata": {},
   "source": [
    "13. Проверьте полученные значения градиента."
   ]
  },
  {
   "cell_type": "code",
   "execution_count": 72,
   "metadata": {},
   "outputs": [
    {
     "name": "stdout",
     "output_type": "stream",
     "text": [
      "Checking gradient for W1\n",
      "Gradient check passed!\n",
      "Checking gradient for B1\n",
      "Gradient check passed!\n",
      "Checking gradient for W2\n",
      "Gradient check passed!\n",
      "Checking gradient for B2\n",
      "Gradient check passed!\n"
     ]
    }
   ],
   "source": [
    "batch_size = 1\n",
    "\n",
    "assert check_model_gradient(\n",
    "    model, \n",
    "    X[:batch_size], \n",
    "    y_one_hot.argmax(axis=1)[:batch_size],\n",
    "    delta=1e-6,\n",
    "    eps=1e-4\n",
    ")"
   ]
  },
  {
   "cell_type": "markdown",
   "metadata": {},
   "source": [
    "14. Обучите нейронную сеть с использованием градиентного спуска или других более эффективных методов оптимизации."
   ]
  },
  {
   "cell_type": "code",
   "execution_count": 76,
   "metadata": {},
   "outputs": [],
   "source": [
    "from copy import deepcopy\n",
    "\n",
    "class GradientDescent:\n",
    "    \n",
    "    def update(self, w, d_w, learning_rate):\n",
    "        return w - d_w * learning_rate\n",
    "\n",
    "class Trainer:\n",
    "\n",
    "    def __init__(self, model, train_X, train_y, optim,\n",
    "                 num_epochs=20,\n",
    "                 batch_size=20,\n",
    "                 learning_rate=1e-2):\n",
    "        self.train_X, self.train_y = train_X, train_y\n",
    "        self.model = model\n",
    "        self.optim = optim\n",
    "        self.batch_size = batch_size\n",
    "        self.learning_rate = learning_rate\n",
    "        self.num_epochs = num_epochs\n",
    "\n",
    "        self.optimizers = None\n",
    "\n",
    "    def setup_optimizers(self):\n",
    "        params = self.model.params()\n",
    "        self.optimizers = {}\n",
    "        for param_name, param in params.items():\n",
    "            self.optimizers[param_name] = deepcopy(self.optim)\n",
    "\n",
    "    def compute_accuracy(self, X, y):\n",
    "        indices = np.arange(X.shape[0])\n",
    "        sections = np.arange(self.batch_size, X.shape[0], self.batch_size)\n",
    "        batches_indices = np.array_split(indices, sections)\n",
    "\n",
    "        pred = np.zeros_like(y)\n",
    "\n",
    "        for batch_indices in batches_indices:\n",
    "            batch_X = X[batch_indices]\n",
    "            pred_batch = self.model.predict(batch_X)\n",
    "            pred[batch_indices] = pred_batch\n",
    "\n",
    "        return accuracy(pred, y)\n",
    "\n",
    "    def fit(self):\n",
    "        if self.optimizers is None:\n",
    "            self.setup_optimizers()\n",
    "\n",
    "        num_train = self.train_X.shape[0]\n",
    "\n",
    "        loss_history = []\n",
    "        train_acc_history = []\n",
    "        val_acc_history = []\n",
    "        \n",
    "        for epoch in range(self.num_epochs):\n",
    "            shuffled_indices = np.arange(num_train)\n",
    "            np.random.shuffle(shuffled_indices)\n",
    "            sections = np.arange(self.batch_size, num_train, self.batch_size)\n",
    "            batches_indices = np.array_split(shuffled_indices, sections)\n",
    "\n",
    "            batch_losses = []\n",
    "\n",
    "            for batch_indices in batches_indices:\n",
    "                x_batch, y_batch = self.train_X[batch_indices], self.train_y[batch_indices]\n",
    "                loss = self.model.compute_loss_and_gradients(x_batch, y_batch)\n",
    "\n",
    "                for param_name, param in self.model.params().items():\n",
    "                    optimizer = self.optimizers[param_name]\n",
    "                    param.value = optimizer.update(param.value, param.grad, self.learning_rate)\n",
    "\n",
    "                batch_losses.append(loss)\n",
    "\n",
    "                batch_accuracy = self.compute_accuracy(x_batch, y_batch)\n",
    "\n",
    "            ave_loss = np.mean(batch_losses)\n",
    "            train_accuracy = self.compute_accuracy(self.train_X, self.train_y)\n",
    "\n",
    "            print(\"Loss: %f, Train accuracy: %f\" %(batch_losses[-1], train_accuracy))\n",
    "\n",
    "            loss_history.append(ave_loss)\n",
    "            train_acc_history.append(train_accuracy)\n",
    "\n",
    "        return loss_history, train_acc_history"
   ]
  },
  {
   "cell_type": "code",
   "execution_count": 80,
   "metadata": {},
   "outputs": [],
   "source": [
    "model = Model(W1_init, W2_init, B1_init, B2_init, reg_lambda=1e-4)\n",
    "\n",
    "optim = GradientDescent()\n",
    "trainer = Trainer(model=model, train_X=X, train_y=y_one_hot.argmax(axis=1), optim=optim, num_epochs=100)"
   ]
  },
  {
   "cell_type": "code",
   "execution_count": 81,
   "metadata": {
    "scrolled": true
   },
   "outputs": [
    {
     "name": "stdout",
     "output_type": "stream",
     "text": [
      "Loss: 21.622835, Train accuracy: 0.660000\n",
      "Loss: 11.862946, Train accuracy: 0.773400\n",
      "Loss: 10.669136, Train accuracy: 0.820200\n",
      "Loss: 10.924210, Train accuracy: 0.845400\n",
      "Loss: 8.804628, Train accuracy: 0.858000\n",
      "Loss: 6.415286, Train accuracy: 0.871800\n",
      "Loss: 8.063940, Train accuracy: 0.878200\n",
      "Loss: 7.015385, Train accuracy: 0.894000\n",
      "Loss: 9.713760, Train accuracy: 0.896600\n",
      "Loss: 10.280374, Train accuracy: 0.903600\n",
      "Loss: 4.761142, Train accuracy: 0.910000\n",
      "Loss: 6.358284, Train accuracy: 0.915600\n",
      "Loss: 5.359264, Train accuracy: 0.917000\n",
      "Loss: 9.868103, Train accuracy: 0.921600\n",
      "Loss: 3.395206, Train accuracy: 0.923800\n",
      "Loss: 4.569061, Train accuracy: 0.926600\n",
      "Loss: 16.916341, Train accuracy: 0.931000\n",
      "Loss: 4.361866, Train accuracy: 0.929200\n",
      "Loss: 4.327137, Train accuracy: 0.935000\n",
      "Loss: 3.103201, Train accuracy: 0.936400\n",
      "Loss: 4.422709, Train accuracy: 0.937400\n",
      "Loss: 3.914099, Train accuracy: 0.941000\n",
      "Loss: 5.108273, Train accuracy: 0.941800\n",
      "Loss: 3.082111, Train accuracy: 0.945800\n",
      "Loss: 3.400145, Train accuracy: 0.945200\n",
      "Loss: 3.622140, Train accuracy: 0.948800\n",
      "Loss: 9.558478, Train accuracy: 0.948200\n",
      "Loss: 5.364701, Train accuracy: 0.950000\n",
      "Loss: 2.709304, Train accuracy: 0.951400\n",
      "Loss: 10.504121, Train accuracy: 0.953000\n",
      "Loss: 1.954435, Train accuracy: 0.954200\n",
      "Loss: 5.423001, Train accuracy: 0.957000\n",
      "Loss: 4.307085, Train accuracy: 0.956000\n",
      "Loss: 2.417474, Train accuracy: 0.958200\n",
      "Loss: 2.962770, Train accuracy: 0.959400\n",
      "Loss: 1.684406, Train accuracy: 0.961200\n",
      "Loss: 2.347551, Train accuracy: 0.959800\n",
      "Loss: 4.959134, Train accuracy: 0.964200\n",
      "Loss: 3.356071, Train accuracy: 0.966000\n",
      "Loss: 1.639499, Train accuracy: 0.965800\n",
      "Loss: 5.964053, Train accuracy: 0.966600\n",
      "Loss: 4.590093, Train accuracy: 0.968000\n",
      "Loss: 2.692380, Train accuracy: 0.968200\n",
      "Loss: 1.782562, Train accuracy: 0.969000\n",
      "Loss: 3.524001, Train accuracy: 0.970000\n",
      "Loss: 7.826679, Train accuracy: 0.971200\n",
      "Loss: 3.371643, Train accuracy: 0.971800\n",
      "Loss: 5.890623, Train accuracy: 0.972200\n",
      "Loss: 10.603367, Train accuracy: 0.974000\n",
      "Loss: 2.622946, Train accuracy: 0.974200\n",
      "Loss: 4.419899, Train accuracy: 0.975200\n",
      "Loss: 3.982341, Train accuracy: 0.975800\n",
      "Loss: 2.935211, Train accuracy: 0.976400\n",
      "Loss: 3.595725, Train accuracy: 0.976400\n",
      "Loss: 1.368545, Train accuracy: 0.977600\n",
      "Loss: 1.972075, Train accuracy: 0.979400\n",
      "Loss: 4.360845, Train accuracy: 0.978400\n",
      "Loss: 6.680794, Train accuracy: 0.978600\n",
      "Loss: 1.685648, Train accuracy: 0.979600\n",
      "Loss: 1.351742, Train accuracy: 0.981400\n",
      "Loss: 2.206474, Train accuracy: 0.980800\n",
      "Loss: 2.068107, Train accuracy: 0.980800\n",
      "Loss: 2.594066, Train accuracy: 0.980000\n",
      "Loss: 5.376860, Train accuracy: 0.982000\n",
      "Loss: 5.873783, Train accuracy: 0.983000\n",
      "Loss: 2.251121, Train accuracy: 0.984000\n",
      "Loss: 2.431113, Train accuracy: 0.982000\n",
      "Loss: 2.329501, Train accuracy: 0.983800\n",
      "Loss: 1.419502, Train accuracy: 0.985000\n",
      "Loss: 1.781340, Train accuracy: 0.983400\n",
      "Loss: 1.967755, Train accuracy: 0.985200\n",
      "Loss: 1.362282, Train accuracy: 0.984600\n",
      "Loss: 2.201412, Train accuracy: 0.985000\n",
      "Loss: 1.560162, Train accuracy: 0.986200\n",
      "Loss: 1.723157, Train accuracy: 0.985800\n",
      "Loss: 1.995507, Train accuracy: 0.987000\n",
      "Loss: 1.632309, Train accuracy: 0.986400\n",
      "Loss: 1.828715, Train accuracy: 0.986000\n",
      "Loss: 2.336675, Train accuracy: 0.987000\n",
      "Loss: 1.678602, Train accuracy: 0.987400\n",
      "Loss: 1.736141, Train accuracy: 0.987800\n",
      "Loss: 1.942074, Train accuracy: 0.988000\n",
      "Loss: 3.092567, Train accuracy: 0.988000\n",
      "Loss: 1.840822, Train accuracy: 0.987600\n",
      "Loss: 1.193733, Train accuracy: 0.989000\n",
      "Loss: 1.772821, Train accuracy: 0.989000\n",
      "Loss: 1.637170, Train accuracy: 0.988800\n",
      "Loss: 1.653267, Train accuracy: 0.989600\n",
      "Loss: 1.360018, Train accuracy: 0.989600\n",
      "Loss: 2.770089, Train accuracy: 0.990000\n",
      "Loss: 2.422451, Train accuracy: 0.989400\n",
      "Loss: 2.159957, Train accuracy: 0.989400\n",
      "Loss: 3.353077, Train accuracy: 0.990400\n",
      "Loss: 7.779795, Train accuracy: 0.991400\n",
      "Loss: 2.200146, Train accuracy: 0.990400\n",
      "Loss: 1.473924, Train accuracy: 0.991000\n",
      "Loss: 1.615201, Train accuracy: 0.991200\n",
      "Loss: 1.711997, Train accuracy: 0.990800\n",
      "Loss: 2.461038, Train accuracy: 0.991400\n",
      "Loss: 1.683399, Train accuracy: 0.992400\n"
     ]
    }
   ],
   "source": [
    "loss_history, train_acc_history = trainer.fit()"
   ]
  },
  {
   "cell_type": "markdown",
   "metadata": {},
   "source": [
    "15. Вычислите процент правильных классификаций на обучающей выборке."
   ]
  },
  {
   "cell_type": "code",
   "execution_count": 82,
   "metadata": {},
   "outputs": [
    {
     "data": {
      "text/plain": [
       "0.9924"
      ]
     },
     "execution_count": 82,
     "metadata": {},
     "output_type": "execute_result"
    }
   ],
   "source": [
    "train_acc_history[-1]"
   ]
  },
  {
   "cell_type": "markdown",
   "metadata": {},
   "source": [
    "16. Визуализируйте скрытый слой обученной сети."
   ]
  },
  {
   "cell_type": "code",
   "execution_count": 84,
   "metadata": {},
   "outputs": [
    {
     "data": {
      "text/plain": [
       "(400, 25)"
      ]
     },
     "execution_count": 84,
     "metadata": {},
     "output_type": "execute_result"
    }
   ],
   "source": [
    "W1_trained = model.fc1.W.value\n",
    "W1_trained.shape"
   ]
  },
  {
   "cell_type": "code",
   "execution_count": 85,
   "metadata": {},
   "outputs": [
    {
     "data": {
      "image/png": "[encoded data removed]",
      "text/plain": [
       "<Figure size 432x288 with 2 Axes>"
      ]
     },
     "metadata": {
      "needs_background": "light"
     },
     "output_type": "display_data"
    },
    {
     "data": {
      "image/png": "[encoded data removed]",
      "text/plain": [
       "<Figure size 432x288 with 2 Axes>"
      ]
     },
     "metadata": {
      "needs_background": "light"
     },
     "output_type": "display_data"
    },
    {
     "data": {
      "image/png": "[encoded data removed]",
      "text/plain": [
       "<Figure size 432x288 with 2 Axes>"
      ]
     },
     "metadata": {
      "needs_background": "light"
     },
     "output_type": "display_data"
    },
    {
     "data": {
      "image/png": "[encoded data removed]",
      "text/plain": [
       "<Figure size 432x288 with 2 Axes>"
      ]
     },
     "metadata": {
      "needs_background": "light"
     },
     "output_type": "display_data"
    },
    {
     "data": {
      "image/png": "[encoded data removed]",
      "text/plain": [
       "<Figure size 432x288 with 2 Axes>"
      ]
     },
     "metadata": {
      "needs_background": "light"
     },
     "output_type": "display_data"
    }
   ],
   "source": [
    "W1_trained_reshaped = W1_trained.reshape((20, 20, 25)).transpose()\n",
    "\n",
    "for W in W1_trained_reshaped[:5]:\n",
    "    plt.imshow(W.transpose(), cmap=\"gray\")\n",
    "    plt.axis('off')\n",
    "    plt.colorbar()\n",
    "    plt.show()"
   ]
  },
  {
   "cell_type": "markdown",
   "metadata": {},
   "source": [
    "Значимость весов похожа на случайный шум - может свидетельствовать о переобучении на артефакты изображений"
   ]
  },
  {
   "cell_type": "markdown",
   "metadata": {},
   "source": [
    "17. Подберите параметр регуляризации. Как меняются изображения на скрытом слое в зависимости от данного параметра?"
   ]
  },
  {
   "cell_type": "code",
   "execution_count": 86,
   "metadata": {},
   "outputs": [],
   "source": [
    "model = Model(W1_init, W2_init, B1_init, B2_init, reg_lambda=1e-2)\n",
    "trainer = Trainer(model=model, train_X=X, train_y=y_one_hot.argmax(axis=1), optim=optim, num_epochs=100)"
   ]
  },
  {
   "cell_type": "code",
   "execution_count": 87,
   "metadata": {
    "scrolled": true
   },
   "outputs": [
    {
     "name": "stdout",
     "output_type": "stream",
     "text": [
      "Loss: 116.832649, Train accuracy: 0.677600\n",
      "Loss: 96.663947, Train accuracy: 0.788200\n",
      "Loss: 85.541898, Train accuracy: 0.827600\n",
      "Loss: 76.434295, Train accuracy: 0.852400\n",
      "Loss: 74.809092, Train accuracy: 0.876000\n",
      "Loss: 63.974814, Train accuracy: 0.886000\n",
      "Loss: 58.834783, Train accuracy: 0.898600\n",
      "Loss: 61.135704, Train accuracy: 0.902600\n",
      "Loss: 49.236146, Train accuracy: 0.910000\n",
      "Loss: 46.128037, Train accuracy: 0.916000\n",
      "Loss: 43.055121, Train accuracy: 0.921000\n",
      "Loss: 37.766359, Train accuracy: 0.923800\n",
      "Loss: 35.176353, Train accuracy: 0.924600\n",
      "Loss: 34.127021, Train accuracy: 0.929400\n",
      "Loss: 33.972702, Train accuracy: 0.935200\n",
      "Loss: 30.857966, Train accuracy: 0.936600\n",
      "Loss: 23.609338, Train accuracy: 0.940000\n",
      "Loss: 23.799835, Train accuracy: 0.941000\n",
      "Loss: 23.296994, Train accuracy: 0.941800\n",
      "Loss: 19.418395, Train accuracy: 0.943800\n",
      "Loss: 20.716135, Train accuracy: 0.945000\n",
      "Loss: 17.477663, Train accuracy: 0.946200\n",
      "Loss: 22.135035, Train accuracy: 0.947200\n",
      "Loss: 15.030756, Train accuracy: 0.946400\n",
      "Loss: 14.869536, Train accuracy: 0.948800\n",
      "Loss: 14.056926, Train accuracy: 0.951800\n",
      "Loss: 13.665458, Train accuracy: 0.950200\n",
      "Loss: 13.173950, Train accuracy: 0.952800\n",
      "Loss: 11.011083, Train accuracy: 0.953200\n",
      "Loss: 11.474081, Train accuracy: 0.953000\n",
      "Loss: 13.683103, Train accuracy: 0.952800\n",
      "Loss: 12.354552, Train accuracy: 0.955800\n",
      "Loss: 10.139842, Train accuracy: 0.952800\n",
      "Loss: 13.066377, Train accuracy: 0.954200\n",
      "Loss: 13.297942, Train accuracy: 0.956800\n",
      "Loss: 11.897623, Train accuracy: 0.954200\n",
      "Loss: 10.705463, Train accuracy: 0.954200\n",
      "Loss: 7.985679, Train accuracy: 0.958000\n",
      "Loss: 11.453519, Train accuracy: 0.953600\n",
      "Loss: 12.866710, Train accuracy: 0.958800\n",
      "Loss: 14.091795, Train accuracy: 0.956600\n",
      "Loss: 12.330368, Train accuracy: 0.956000\n",
      "Loss: 13.017116, Train accuracy: 0.956400\n",
      "Loss: 8.736993, Train accuracy: 0.959200\n",
      "Loss: 8.919466, Train accuracy: 0.958000\n",
      "Loss: 8.104473, Train accuracy: 0.960400\n",
      "Loss: 15.020991, Train accuracy: 0.959200\n",
      "Loss: 9.901014, Train accuracy: 0.959800\n",
      "Loss: 6.234655, Train accuracy: 0.956400\n",
      "Loss: 8.584440, Train accuracy: 0.957200\n",
      "Loss: 6.819715, Train accuracy: 0.959200\n",
      "Loss: 14.685159, Train accuracy: 0.959800\n",
      "Loss: 8.190148, Train accuracy: 0.956800\n",
      "Loss: 11.091533, Train accuracy: 0.960000\n",
      "Loss: 12.169234, Train accuracy: 0.960000\n",
      "Loss: 6.333111, Train accuracy: 0.960400\n",
      "Loss: 10.914206, Train accuracy: 0.960800\n",
      "Loss: 9.151865, Train accuracy: 0.957200\n",
      "Loss: 7.085178, Train accuracy: 0.962000\n",
      "Loss: 7.445848, Train accuracy: 0.958600\n",
      "Loss: 11.231917, Train accuracy: 0.961200\n",
      "Loss: 10.487067, Train accuracy: 0.961400\n",
      "Loss: 7.622267, Train accuracy: 0.960400\n",
      "Loss: 8.302472, Train accuracy: 0.960000\n",
      "Loss: 7.510637, Train accuracy: 0.962000\n",
      "Loss: 6.539560, Train accuracy: 0.961200\n",
      "Loss: 7.129603, Train accuracy: 0.959400\n",
      "Loss: 6.917356, Train accuracy: 0.959600\n",
      "Loss: 7.797951, Train accuracy: 0.959800\n",
      "Loss: 8.896186, Train accuracy: 0.962600\n",
      "Loss: 8.994796, Train accuracy: 0.960600\n",
      "Loss: 6.763767, Train accuracy: 0.960000\n",
      "Loss: 10.416655, Train accuracy: 0.960000\n",
      "Loss: 9.236936, Train accuracy: 0.962400\n",
      "Loss: 7.336944, Train accuracy: 0.956600\n",
      "Loss: 8.085657, Train accuracy: 0.962600\n",
      "Loss: 6.412625, Train accuracy: 0.962400\n",
      "Loss: 7.616516, Train accuracy: 0.961000\n",
      "Loss: 8.186979, Train accuracy: 0.960600\n",
      "Loss: 7.796402, Train accuracy: 0.961600\n",
      "Loss: 8.729247, Train accuracy: 0.961800\n",
      "Loss: 6.298899, Train accuracy: 0.964000\n",
      "Loss: 7.725943, Train accuracy: 0.963800\n",
      "Loss: 5.911361, Train accuracy: 0.956400\n",
      "Loss: 12.337906, Train accuracy: 0.963400\n",
      "Loss: 9.621220, Train accuracy: 0.963000\n",
      "Loss: 10.425538, Train accuracy: 0.960400\n",
      "Loss: 9.291674, Train accuracy: 0.962600\n",
      "Loss: 8.760011, Train accuracy: 0.964400\n",
      "Loss: 7.359248, Train accuracy: 0.961000\n",
      "Loss: 7.704334, Train accuracy: 0.961400\n",
      "Loss: 5.733470, Train accuracy: 0.958600\n",
      "Loss: 10.274306, Train accuracy: 0.961600\n",
      "Loss: 10.272406, Train accuracy: 0.960000\n",
      "Loss: 7.284101, Train accuracy: 0.962600\n",
      "Loss: 7.784303, Train accuracy: 0.960800\n",
      "Loss: 6.247601, Train accuracy: 0.961400\n",
      "Loss: 14.280642, Train accuracy: 0.961800\n",
      "Loss: 6.093659, Train accuracy: 0.961600\n",
      "Loss: 9.488423, Train accuracy: 0.963400\n"
     ]
    }
   ],
   "source": [
    "loss_history, train_acc_history = trainer.fit()"
   ]
  },
  {
   "cell_type": "code",
   "execution_count": 88,
   "metadata": {},
   "outputs": [
    {
     "data": {
      "text/plain": [
       "(400, 25)"
      ]
     },
     "execution_count": 88,
     "metadata": {},
     "output_type": "execute_result"
    }
   ],
   "source": [
    "W1_trained = model.fc1.W.value\n",
    "W1_trained.shape"
   ]
  },
  {
   "cell_type": "code",
   "execution_count": 90,
   "metadata": {},
   "outputs": [
    {
     "data": {
      "image/png": "[encoded data removed]",
      "text/plain": [
       "<Figure size 432x288 with 2 Axes>"
      ]
     },
     "metadata": {
      "needs_background": "light"
     },
     "output_type": "display_data"
    },
    {
     "data": {
      "image/png": "[encoded data removed]",
      "text/plain": [
       "<Figure size 432x288 with 2 Axes>"
      ]
     },
     "metadata": {
      "needs_background": "light"
     },
     "output_type": "display_data"
    },
    {
     "data": {
      "image/png": "[encoded data removed]",
      "text/plain": [
       "<Figure size 432x288 with 2 Axes>"
      ]
     },
     "metadata": {
      "needs_background": "light"
     },
     "output_type": "display_data"
    },
    {
     "data": {
      "image/png": "[encoded data removed]",
      "text/plain": [
       "<Figure size 432x288 with 2 Axes>"
      ]
     },
     "metadata": {
      "needs_background": "light"
     },
     "output_type": "display_data"
    },
    {
     "data": {
      "image/png": "[encoded data removed]",
      "text/plain": [
       "<Figure size 432x288 with 2 Axes>"
      ]
     },
     "metadata": {
      "needs_background": "light"
     },
     "output_type": "display_data"
    }
   ],
   "source": [
    "W1_trained_reshaped = W1_trained.reshape((20, 20, 25)).transpose()\n",
    "\n",
    "for W in W1_trained_reshaped[:5]:\n",
    "    plt.imshow(W.transpose(), cmap=\"gray\")\n",
    "    plt.axis('off')\n",
    "    plt.colorbar()\n",
    "    plt.show()"
   ]
  },
  {
   "cell_type": "markdown",
   "metadata": {},
   "source": [
    "При регуляризации весов визуализации получаются более \"сконцентрированными\" - те каждый нейрон фокусируется выучивать какую-то особенность входного изображения."
   ]
  }
 ],
 "metadata": {
  "kernelspec": {
   "display_name": "Python 3",
   "language": "python",
   "name": "python3"
  },
  "language_info": {
   "codemirror_mode": {
    "name": "ipython",
    "version": 3
   },
   "file_extension": ".py",
   "mimetype": "text/x-python",
   "name": "python",
   "nbconvert_exporter": "python",
   "pygments_lexer": "ipython3",
   "version": "3.7.4"
  }
 },
 "nbformat": 4,
 "nbformat_minor": 2
}

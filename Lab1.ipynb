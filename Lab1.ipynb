{
 "cells": [
  {
   "cell_type": "markdown",
   "metadata": {},
   "source": [
    "# Задание"
   ]
  },
  {
   "cell_type": "markdown",
   "metadata": {},
   "source": [
    "Набор данных ex1data1.txt представляет собой текстовый файл, содержащий информацию о населении городов (первое число в строке) и прибыли ресторана, достигнутой в этом городе (второе число в строке). Отрицательное значение прибыли означает, что в данном городе ресторан терпит убытки.\n",
    "\n",
    "Набор данных ex1data2.txt представляет собой текстовый файл, содержащий информацию о площади дома в квадратных футах (первое число в строке), количестве комнат в доме (второе число в строке) и стоимости дома (третье число).\n",
    "\n",
    "Задание:\n",
    "1. Загрузите набор данных ex1data1.txt из текстового файла.\n",
    "2. Постройте график зависимости прибыли ресторана от населения города, в котором он расположен.\n",
    "3. Реализуйте функцию потерь J(θ) для набора данных ex1data1.txt.\n",
    "4. Реализуйте функцию градиентного спуска для выбора параметров модели. Постройте полученную модель (функцию) совместно с графиком из пункта 2.\n",
    "5. Постройте трехмерный график зависимости функции потерь от параметров модели (θ0 и θ1) как в виде поверхности, так и в виде изолиний (contour plot).\n",
    "6. Загрузите набор данных ex1data2.txt из текстового файла.\n",
    "7. Произведите нормализацию признаков. Повлияло ли это на скорость сходимости градиентного спуска? Ответ дайте в виде графика.\n",
    "8. Реализуйте функции потерь J(θ) и градиентного спуска для случая многомерной линейной регрессии с использованием векторизации.\n",
    "9. Покажите, что векторизация дает прирост производительности.\n",
    "10. Попробуйте изменить параметр ɑ (коэффициент обучения). Как при этом изменяется график функции потерь в зависимости от числа итераций градиентного спуск? Результат изобразите в качестве графика.\n",
    "11. Постройте модель, используя аналитическое решение, которое может быть получено методом наименьших квадратов. Сравните результаты данной модели с моделью, полученной с помощью градиентного спуска.\n"
   ]
  },
  {
   "cell_type": "code",
   "execution_count": 1,
   "metadata": {},
   "outputs": [],
   "source": [
    "import numpy as np\n",
    "import matplotlib.pyplot as plt\n",
    "%matplotlib inline"
   ]
  },
  {
   "cell_type": "markdown",
   "metadata": {},
   "source": [
    "1. Загрузите набор данных ex1data1.txt из текстового файла."
   ]
  },
  {
   "cell_type": "code",
   "execution_count": 2,
   "metadata": {},
   "outputs": [
    {
     "data": {
      "text/plain": [
       "((97, 2), (97, 1), (97,))"
      ]
     },
     "execution_count": 2,
     "metadata": {},
     "output_type": "execute_result"
    }
   ],
   "source": [
    "data = np.loadtxt(\"Data/Lab 1/ex1data1.txt\", delimiter=\",\")\n",
    "X, y = np.expand_dims(data[:, 0], axis=1), data[:, 1]\n",
    "data.shape, X.shape, y.shape"
   ]
  },
  {
   "cell_type": "markdown",
   "metadata": {},
   "source": [
    "2. Постройте график зависимости прибыли ресторана от населения города, в котором он расположен."
   ]
  },
  {
   "cell_type": "code",
   "execution_count": 3,
   "metadata": {},
   "outputs": [
    {
     "data": {
      "image/png": "[encoded data removed]",
      "text/plain": [
       "<Figure size 432x288 with 1 Axes>"
      ]
     },
     "metadata": {
      "needs_background": "light"
     },
     "output_type": "display_data"
    }
   ],
   "source": [
    "plt.scatter(data[:, 0], data[:, 1])\n",
    "plt.xlabel(\"Population\")\n",
    "plt.ylabel(\"Profit\")\n",
    "plt.show()"
   ]
  },
  {
   "cell_type": "markdown",
   "metadata": {},
   "source": [
    "3. Реализуйте функцию потерь J(θ) для набора данных ex1data1.txt.\n",
    "4. Реализуйте функцию градиентного спуска для выбора параметров модели. Постройте полученную модель (функцию) совместно с графиком из пункта 2.\n"
   ]
  },
  {
   "cell_type": "code",
   "execution_count": 5,
   "metadata": {},
   "outputs": [
    {
     "data": {
      "text/plain": [
       "{'initial_loss': 64.14546775491131,\n",
       " 'loss_after': 8.954080560249755,\n",
       " 'loss_steps': [],\n",
       " 'model': [ 1.19026986 -3.86826978],\n",
       " 'iter_num': 1377}"
      ]
     },
     "execution_count": 5,
     "metadata": {},
     "output_type": "execute_result"
    }
   ],
   "source": [
    "class Loss(object):\n",
    "    \n",
    "    def __init__(self, model):\n",
    "        self.model = model\n",
    "    \n",
    "    def __call__(self, x, y):\n",
    "        raise NotImplementedError\n",
    "    \n",
    "    def grad(self, x, y):\n",
    "        raise NotImplementedError\n",
    "\n",
    "        \n",
    "class MSELossNaive(Loss):\n",
    "    \n",
    "    def __call__(self, x, y):\n",
    "        sse, n = 0., 0\n",
    "\n",
    "        for x_i, y_i in zip(x, y):\n",
    "            sse += (self.model(x_i) - y_i) ** 2\n",
    "            n += 1\n",
    "            \n",
    "        return sse / n\n",
    "    \n",
    "    def grad(self, x, y):\n",
    "        n = 0\n",
    "        res = np.zeros_like(self.model.w)\n",
    "        \n",
    "        for x_i, y_i in zip(x, y):\n",
    "            pred_i = self.model(x_i)\n",
    "\n",
    "            error = pred_i - y_i\n",
    "            model_grad = self.model.grad(x_i)\n",
    "            \n",
    "            for idx in range(self.model.dim):\n",
    "                res[idx] += 2 * error * model_grad[idx]\n",
    "            \n",
    "            n += 1\n",
    "        \n",
    "        for idx in range(self.model.dim):\n",
    "            res[idx] /= n\n",
    "        \n",
    "        return res\n",
    "    \n",
    "\n",
    "class Model(object):\n",
    "    \n",
    "    def __init__(self, dim):\n",
    "        self.dim = dim + 1\n",
    "        self.w = np.zeros(dim + 1)\n",
    "    \n",
    "    def __repr__(self):\n",
    "        return str(self.w)\n",
    "    \n",
    "    def __call__(self, x):\n",
    "        value = np.dot(x, self.w[:-1]) + self.w[-1]\n",
    "        return float(value)\n",
    "    \n",
    "    def grad(self, x):\n",
    "        return np.array(list(x) + [1])\n",
    "\n",
    "\n",
    "def get_gradient_descent(loss, alpha, eps, save_steps=False):\n",
    "    def apply(X, y):\n",
    "        iter_num = 0\n",
    "        need_stop = False\n",
    "        \n",
    "        initial_loss = loss_before = loss_after = loss(X, y)\n",
    "        steps = []\n",
    "        \n",
    "        if save_steps:\n",
    "            steps.append(initial_loss)\n",
    "        \n",
    "        while not need_stop:\n",
    "            model_grad = loss.grad(X, y)   \n",
    "            assert model_grad.shape == loss.model.w.shape\n",
    "            \n",
    "            loss.model.w -= alpha * model_grad\n",
    "            loss_after = loss(X, y)\n",
    "            assert loss_before >= loss_after\n",
    "            \n",
    "            need_stop = loss_before - loss_after <= eps\n",
    "            \n",
    "            loss_before = loss_after\n",
    "            if save_steps:\n",
    "                steps.append(loss_after)\n",
    "                \n",
    "            iter_num += 1\n",
    "        \n",
    "        return {\n",
    "            \"initial_loss\": initial_loss,\n",
    "            \"loss_after\": loss_after,\n",
    "            \"loss_steps\": steps,\n",
    "            \"model\": loss.model,\n",
    "            \"iter_num\": iter_num\n",
    "        }\n",
    "    \n",
    "    return apply\n",
    "    \n",
    "model = Model(dim=1)\n",
    "loss = MSELossNaive(model)\n",
    "\n",
    "gradient_descent = get_gradient_descent(loss, alpha=0.01, eps=1e-6)\n",
    "result = gradient_descent(X, y)\n",
    "\n",
    "result"
   ]
  },
  {
   "cell_type": "code",
   "execution_count": 6,
   "metadata": {},
   "outputs": [],
   "source": [
    "trained_model = result[\"model\"]"
   ]
  },
  {
   "cell_type": "code",
   "execution_count": 7,
   "metadata": {},
   "outputs": [
    {
     "data": {
      "image/png": "[encoded data removed]",
      "text/plain": [
       "<Figure size 432x288 with 1 Axes>"
      ]
     },
     "metadata": {
      "needs_background": "light"
     },
     "output_type": "display_data"
    }
   ],
   "source": [
    "x_min, x_max = np.min(data[:, 0]), np.max(data[:, 0])\n",
    "\n",
    "x_vals = np.expand_dims(np.linspace(x_min, x_max, num=50), axis=1)\n",
    "y_pred = [trained_model(x) for x in x_vals]\n",
    "\n",
    "plt.scatter(data[:, 0], data[:, 1])\n",
    "plt.plot(x_vals, y_pred, color='r', linestyle='--')\n",
    "\n",
    "plt.xlabel(\"Population\")\n",
    "plt.ylabel(\"Profit\")\n",
    "plt.show()"
   ]
  },
  {
   "cell_type": "markdown",
   "metadata": {},
   "source": [
    "5. Постройте трехмерный график зависимости функции потерь от параметров модели (θ0 и θ1) как в виде поверхности, так и в виде изолиний (contour plot)."
   ]
  },
  {
   "cell_type": "code",
   "execution_count": 13,
   "metadata": {},
   "outputs": [
    {
     "data": {
      "text/plain": [
       "<matplotlib.collections.PathCollection at 0x115059b50>"
      ]
     },
     "execution_count": 13,
     "metadata": {},
     "output_type": "execute_result"
    },
    {
     "data": {
      "image/png": "[encoded data removed]",
      "text/plain": [
       "<Figure size 432x288 with 1 Axes>"
      ]
     },
     "metadata": {
      "needs_background": "light"
     },
     "output_type": "display_data"
    }
   ],
   "source": [
    "theta_0_range, theta_1_range = np.arange(-10, 10, 0.1), np.arange(-10, 10, 0.1) \n",
    "theta_0, theta_1 = np.meshgrid(theta_0_range, theta_1_range)\n",
    "\n",
    "values = []\n",
    "for w1, w2 in zip(theta_0.flatten(), theta_1.flatten()):\n",
    "    model = Model(dim=1)\n",
    "    model.w = np.array([w1, w2])\n",
    "    \n",
    "    loss = MSELossNaive(model)\n",
    "    loss_value = loss(X, y)\n",
    "    values.append(loss_value)\n",
    "    \n",
    "values = np.array(values)\n",
    "values = values.reshape((len(theta_1_range), len(theta_0_range)))\n",
    "\n",
    "plt.contour(theta_0, theta_1, values)\n",
    "plt.scatter(*trained_model.w)"
   ]
  },
  {
   "cell_type": "markdown",
   "metadata": {},
   "source": [
    "6. Загрузите набор данных ex1data2.txt из текстового файла."
   ]
  },
  {
   "cell_type": "code",
   "execution_count": 14,
   "metadata": {},
   "outputs": [
    {
     "data": {
      "text/plain": [
       "((47, 3), (47, 2), (47,))"
      ]
     },
     "execution_count": 14,
     "metadata": {},
     "output_type": "execute_result"
    }
   ],
   "source": [
    "data = np.loadtxt(\"Data/Lab 1/ex1data2.txt\", delimiter=\",\")\n",
    "X, y = data[:, :2], data[:, 2]\n",
    "data.shape, X.shape, y.shape"
   ]
  },
  {
   "cell_type": "markdown",
   "metadata": {},
   "source": [
    "7. Произведите нормализацию признаков. Повлияло ли это на скорость сходимости градиентного спуска? Ответ дайте в виде графика."
   ]
  },
  {
   "cell_type": "code",
   "execution_count": 15,
   "metadata": {},
   "outputs": [
    {
     "data": {
      "text/plain": [
       "(array([2104.,    3.]), array([ 0.13141542, -0.22609337]))"
      ]
     },
     "execution_count": 15,
     "metadata": {},
     "output_type": "execute_result"
    }
   ],
   "source": [
    "X_norm = (X - X.mean(axis=0)) / X.std(axis=0)\n",
    "X[0], X_norm[0]"
   ]
  },
  {
   "cell_type": "code",
   "execution_count": 16,
   "metadata": {},
   "outputs": [
    {
     "data": {
      "text/plain": [
       "{'initial_loss': 131183096212.91489,\n",
       " 'loss_after': 4086560101.205817,\n",
       " 'loss_steps': [],\n",
       " 'model': [109447.78298796  -6578.34137247 340412.65957447],\n",
       " 'iter_num': 1728}"
      ]
     },
     "execution_count": 16,
     "metadata": {},
     "output_type": "execute_result"
    }
   ],
   "source": [
    "model = Model(dim=2)\n",
    "loss = MSELossNaive(model)\n",
    "\n",
    "gradient_descent = get_gradient_descent(loss, alpha=0.01, eps=1e-6)\n",
    "result = gradient_descent(X_norm, y)\n",
    "\n",
    "result"
   ]
  },
  {
   "cell_type": "markdown",
   "metadata": {},
   "source": [
    "В общем случае нормализация признаков положительно влияет на скорость сходимости градиентного спуска т.к. \"выравнивает\" пространство оптимизации в случае значительно отличающихся шкал признаков и позволяет выбирать значительно больший шаг градиентного спуска. Зачастую ненормализованные данные могут приводить к расходимости алгоритма, что в моем случае и произошло (не сходится на ненормированных данных при фиксированном alpha = 0.01)."
   ]
  },
  {
   "cell_type": "markdown",
   "metadata": {},
   "source": [
    "8. Реализуйте функции потерь J(θ) и градиентного спуска для случая многомерной линейной регрессии с использованием векторизации."
   ]
  },
  {
   "cell_type": "code",
   "execution_count": 17,
   "metadata": {},
   "outputs": [],
   "source": [
    "class MSELossVectorized(Loss):\n",
    "    \n",
    "    def __call__(self, x, y):\n",
    "        pred = np.array([self.model(x_i) for x_i in x])\n",
    "        return np.mean((pred - y) ** 2)\n",
    "    \n",
    "    def grad(self, x, y):\n",
    "        preds = np.array([self.model(x_i) for x_i in x])\n",
    "        grads = np.array([self.model.grad(x_i) for x_i in x])\n",
    "        \n",
    "        errors = np.expand_dims(preds - y, axis=1)\n",
    "        \n",
    "        return np.mean(2 * grads * errors, axis=0)"
   ]
  },
  {
   "cell_type": "code",
   "execution_count": 18,
   "metadata": {},
   "outputs": [],
   "source": [
    "loss_naive = MSELossNaive(result[\"model\"])\n",
    "loss_vectorized = MSELossVectorized(result[\"model\"])\n",
    "\n",
    "assert np.isclose(loss_naive(X_norm, y), loss_vectorized(X_norm, y))\n",
    "assert np.allclose(loss_naive.grad(X_norm, y), loss_vectorized.grad(X_norm, y))"
   ]
  },
  {
   "cell_type": "markdown",
   "metadata": {},
   "source": [
    "9. Покажите, что векторизация дает прирост производительности."
   ]
  },
  {
   "cell_type": "markdown",
   "metadata": {},
   "source": [
    "Вычисление лосса"
   ]
  },
  {
   "cell_type": "code",
   "execution_count": 19,
   "metadata": {},
   "outputs": [
    {
     "name": "stdout",
     "output_type": "stream",
     "text": [
      "126 µs ± 13.4 µs per loop (mean ± std. dev. of 7 runs, 1000 loops each)\n"
     ]
    }
   ],
   "source": [
    "%%timeit -n 1000\n",
    "\n",
    "loss_naive(X_norm, y)"
   ]
  },
  {
   "cell_type": "code",
   "execution_count": 20,
   "metadata": {},
   "outputs": [
    {
     "name": "stdout",
     "output_type": "stream",
     "text": [
      "108 µs ± 14.9 µs per loop (mean ± std. dev. of 7 runs, 1000 loops each)\n"
     ]
    }
   ],
   "source": [
    "%%timeit -n 1000\n",
    "\n",
    "loss_vectorized(X_norm, y)"
   ]
  },
  {
   "cell_type": "markdown",
   "metadata": {},
   "source": [
    "Вычисление градиента"
   ]
  },
  {
   "cell_type": "code",
   "execution_count": 21,
   "metadata": {},
   "outputs": [
    {
     "name": "stdout",
     "output_type": "stream",
     "text": [
      "397 µs ± 63.8 µs per loop (mean ± std. dev. of 7 runs, 1000 loops each)\n"
     ]
    }
   ],
   "source": [
    "%%timeit -n 1000\n",
    "\n",
    "loss_naive.grad(X_norm, y)"
   ]
  },
  {
   "cell_type": "code",
   "execution_count": 22,
   "metadata": {},
   "outputs": [
    {
     "name": "stdout",
     "output_type": "stream",
     "text": [
      "240 µs ± 10.9 µs per loop (mean ± std. dev. of 7 runs, 1000 loops each)\n"
     ]
    }
   ],
   "source": [
    "%%timeit -n 1000\n",
    "\n",
    "loss_vectorized.grad(X_norm, y)"
   ]
  },
  {
   "cell_type": "markdown",
   "metadata": {},
   "source": [
    "Даже крайне не оптимальная векторизация (векторизовано только вычисление самого лосса и градиента, без векторизации предсказания самой модели) дает некоторое улучшение, еще большей производительности можно достичь позволив Model возвращать сразу array предсказаний для всех X, вместо единичных предсказания."
   ]
  },
  {
   "cell_type": "markdown",
   "metadata": {},
   "source": [
    "10. Попробуйте изменить параметр ɑ (коэффициент обучения). Как при этом изменяется график функции потерь в зависимости от числа итераций градиентного спуск? Результат изобразите в качестве графика."
   ]
  },
  {
   "cell_type": "code",
   "execution_count": 33,
   "metadata": {},
   "outputs": [],
   "source": [
    "model = Model(dim=2)\n",
    "loss = MSELossVectorized(model)\n",
    "\n",
    "gradient_descent = get_gradient_descent(loss, 0.01, eps=1e-6, save_steps=True)\n",
    "result = gradient_descent(X_norm, y)\n",
    "first = result[\"loss_steps\"]"
   ]
  },
  {
   "cell_type": "code",
   "execution_count": 39,
   "metadata": {},
   "outputs": [
    {
     "data": {
      "text/plain": [
       "[<matplotlib.lines.Line2D at 0x117307510>]"
      ]
     },
     "execution_count": 39,
     "metadata": {},
     "output_type": "execute_result"
    },
    {
     "data": {
      "image/png": "[encoded data removed]",
      "text/plain": [
       "<Figure size 432x288 with 1 Axes>"
      ]
     },
     "metadata": {
      "needs_background": "light"
     },
     "output_type": "display_data"
    }
   ],
   "source": [
    "plt.plot(first)"
   ]
  },
  {
   "cell_type": "code",
   "execution_count": 34,
   "metadata": {},
   "outputs": [],
   "source": [
    "model = Model(dim=2)\n",
    "loss = MSELossVectorized(model)\n",
    "\n",
    "gradient_descent = get_gradient_descent(loss, 0.001, eps=1e-6, save_steps=True)\n",
    "result = gradient_descent(X_norm, y)\n",
    "second = result[\"loss_steps\"]"
   ]
  },
  {
   "cell_type": "code",
   "execution_count": 40,
   "metadata": {},
   "outputs": [
    {
     "data": {
      "text/plain": [
       "[<matplotlib.lines.Line2D at 0x1165eb690>]"
      ]
     },
     "execution_count": 40,
     "metadata": {},
     "output_type": "execute_result"
    },
    {
     "data": {
      "image/png": "[encoded data removed]",
      "text/plain": [
       "<Figure size 432x288 with 1 Axes>"
      ]
     },
     "metadata": {
      "needs_background": "light"
     },
     "output_type": "display_data"
    }
   ],
   "source": [
    "plt.plot(second)"
   ]
  },
  {
   "cell_type": "markdown",
   "metadata": {},
   "source": [
    "Из графиков видно, что при меньшем шаге градиентного спуска значительно увеличилось количество итераций необходимых для достижения того же критерия остнановки "
   ]
  },
  {
   "cell_type": "markdown",
   "metadata": {},
   "source": [
    "11. Постройте модель, используя аналитическое решение, которое может быть получено методом наименьших квадратов. Сравните результаты данной модели с моделью, полученной с помощью градиентного спуска."
   ]
  },
  {
   "cell_type": "markdown",
   "metadata": {},
   "source": [
    "Аналитическое решение:\n",
    "\n",
    "$$W = (X^T*X)^{-1}*X^T*y $$\n",
    "$$b = \\hat{y}$$"
   ]
  },
  {
   "cell_type": "code",
   "execution_count": 46,
   "metadata": {},
   "outputs": [
    {
     "name": "stdout",
     "output_type": "stream",
     "text": [
      "Analytical: [109447.79646964  -6578.35485416 340412.65957447]\n",
      "Gradient descent: [109447.75171227  -6578.31009679 340412.65957445]\n"
     ]
    }
   ],
   "source": [
    "def analytical_solution(X, y):\n",
    "    mean = np.mean(y)\n",
    "\n",
    "    inv = np.linalg.inv(np.dot(X.T, X))\n",
    "    mul = np.dot(X.T, y)\n",
    "    \n",
    "    return np.array(np.dot(inv, mul).tolist() + [mean])\n",
    "\n",
    "print(\"Analytical:\", analytical_solution(X_norm, y))\n",
    "print(\"Gradient descent:\", result[\"model\"].w)"
   ]
  },
  {
   "cell_type": "markdown",
   "metadata": {},
   "source": [
    "Решение полученное градиентным спуском близко к аналитическому"
   ]
  }
 ],
 "metadata": {
  "kernelspec": {
   "display_name": "Python 3",
   "language": "python",
   "name": "python3"
  },
  "language_info": {
   "codemirror_mode": {
    "name": "ipython",
    "version": 3
   },
   "file_extension": ".py",
   "mimetype": "text/x-python",
   "name": "python",
   "nbconvert_exporter": "python",
   "pygments_lexer": "ipython3",
   "version": "3.7.4"
  }
 },
 "nbformat": 4,
 "nbformat_minor": 2
}
